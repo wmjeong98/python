{
 "cells": [
  {
   "cell_type": "code",
   "execution_count": 1,
   "id": "d6086908-5d43-45bc-b2fa-047cb04e0b8c",
   "metadata": {},
   "outputs": [],
   "source": [
    "word = 'grail'\n",
    "sent = 'a scratch'"
   ]
  },
  {
   "cell_type": "code",
   "execution_count": 2,
   "id": "4b92fb3d-72f4-4b21-91ac-4d6811c781b2",
   "metadata": {},
   "outputs": [
    {
     "data": {
      "text/plain": [
       "'h'"
      ]
     },
     "execution_count": 2,
     "metadata": {},
     "output_type": "execute_result"
    }
   ],
   "source": [
    "sent[-1]"
   ]
  },
  {
   "cell_type": "code",
   "execution_count": 4,
   "id": "e2042039-4a13-4bcb-b652-6ff58af79902",
   "metadata": {},
   "outputs": [
    {
     "data": {
      "text/plain": [
       "'a'"
      ]
     },
     "execution_count": 4,
     "metadata": {},
     "output_type": "execute_result"
    }
   ],
   "source": [
    "sent[-9:-8] # sent[0:1]"
   ]
  },
  {
   "cell_type": "code",
   "execution_count": 5,
   "id": "99f6b898-4d61-4473-9e48-f571e9a2771b",
   "metadata": {},
   "outputs": [
    {
     "data": {
      "text/plain": [
       "'a'"
      ]
     },
     "execution_count": 5,
     "metadata": {},
     "output_type": "execute_result"
    }
   ],
   "source": [
    "sent[0:-8]"
   ]
  },
  {
   "cell_type": "code",
   "execution_count": 6,
   "id": "98deabba-7e27-47c2-b1cd-9ee289b0f384",
   "metadata": {},
   "outputs": [
    {
     "data": {
      "text/plain": [
       "'scratc'"
      ]
     },
     "execution_count": 6,
     "metadata": {},
     "output_type": "execute_result"
    }
   ],
   "source": [
    "sent[2:-1]"
   ]
  },
  {
   "cell_type": "code",
   "execution_count": 15,
   "id": "7b92b21f-1a9d-4c77-83f3-f18b96fe7481",
   "metadata": {},
   "outputs": [
    {
     "data": {
      "text/plain": [
       "'scratc'"
      ]
     },
     "execution_count": 15,
     "metadata": {},
     "output_type": "execute_result"
    }
   ],
   "source": [
    "sent[-7:-1]"
   ]
  },
  {
   "cell_type": "code",
   "execution_count": 16,
   "id": "12da32dd-2338-4a57-b32f-c33319cca215",
   "metadata": {},
   "outputs": [
    {
     "data": {
      "text/plain": [
       "9"
      ]
     },
     "execution_count": 16,
     "metadata": {},
     "output_type": "execute_result"
    }
   ],
   "source": [
    "s_len = len(sent)\n",
    "s_len"
   ]
  },
  {
   "cell_type": "code",
   "execution_count": 17,
   "id": "fc8be54e-f7fc-4463-9de9-500337dcca67",
   "metadata": {},
   "outputs": [
    {
     "data": {
      "text/plain": [
       "'scratch'"
      ]
     },
     "execution_count": 17,
     "metadata": {},
     "output_type": "execute_result"
    }
   ],
   "source": [
    "sent[2: s_len]"
   ]
  },
  {
   "cell_type": "code",
   "execution_count": 18,
   "id": "fe094504-9b16-4259-85d8-bd5885ae544a",
   "metadata": {},
   "outputs": [
    {
     "data": {
      "text/plain": [
       "'gra'"
      ]
     },
     "execution_count": 18,
     "metadata": {},
     "output_type": "execute_result"
    }
   ],
   "source": [
    "word[0:3]"
   ]
  },
  {
   "cell_type": "code",
   "execution_count": 19,
   "id": "e999eb71-670e-44bd-a476-2c37c137067d",
   "metadata": {},
   "outputs": [
    {
     "data": {
      "text/plain": [
       "'scratch'"
      ]
     },
     "execution_count": 19,
     "metadata": {},
     "output_type": "execute_result"
    }
   ],
   "source": [
    "sent[2:len(sent)]"
   ]
  },
  {
   "cell_type": "code",
   "execution_count": 20,
   "id": "00f84b75-a8b2-42d2-8cf1-57e7ddc2118d",
   "metadata": {},
   "outputs": [
    {
     "data": {
      "text/plain": [
       "'a scratch'"
      ]
     },
     "execution_count": 20,
     "metadata": {},
     "output_type": "execute_result"
    }
   ],
   "source": [
    "sent[:]"
   ]
  },
  {
   "cell_type": "code",
   "execution_count": 23,
   "id": "630c4118-2cc2-4aae-8528-ce048722568e",
   "metadata": {},
   "outputs": [
    {
     "data": {
      "text/plain": [
       "'asrth'"
      ]
     },
     "execution_count": 23,
     "metadata": {},
     "output_type": "execute_result"
    }
   ],
   "source": [
    "sent[::2] # step = 2"
   ]
  },
  {
   "cell_type": "code",
   "execution_count": 27,
   "id": "5dc46fd0-1cbd-448f-a98a-8a9a1d112020",
   "metadata": {},
   "outputs": [
    {
     "name": "stdout",
     "output_type": "stream",
     "text": [
      "40º 46' 52.837\" N 73º 58' 26.302\" W\n"
     ]
    }
   ],
   "source": [
    "d1 = '40º'\n",
    "m1 = \"46'\"\n",
    "s1 = '52.837\"'\n",
    "u1 = 'N'\n",
    "\n",
    "d2 = '73º'\n",
    "m2 = \"58'\"\n",
    "s2 = '26.302\"'\n",
    "u2 = 'W'\n",
    "\n",
    "coords = ' '.join([d1, m1, s1, u1, d2, m2, s2, u2])\n",
    "print(coords)"
   ]
  },
  {
   "cell_type": "code",
   "execution_count": 28,
   "id": "1c36fb90-6c12-4f44-8b2d-6636c7ef7164",
   "metadata": {},
   "outputs": [
    {
     "data": {
      "text/plain": [
       "['40º', \"46'\", '52.837\"', 'N', '73º', \"58'\", '26.302\"', 'W']"
      ]
     },
     "execution_count": 28,
     "metadata": {},
     "output_type": "execute_result"
    }
   ],
   "source": [
    "coords.split(\" \")"
   ]
  },
  {
   "cell_type": "code",
   "execution_count": 29,
   "id": "1addc934-83ea-4d3b-865f-88583086a213",
   "metadata": {},
   "outputs": [
    {
     "name": "stdout",
     "output_type": "stream",
     "text": [
      "Guard : What? Ridden on a horse?\n",
      "King Arthur : Yes!\n",
      "Guard : You're using coconuts!\n",
      "King Arthur : What?\n",
      "Guard : You've get ... coconut[s] and you're bangin' 'em together\n",
      "\n"
     ]
    }
   ],
   "source": [
    "multi_str = \"\"\"Guard : What? Ridden on a horse?\n",
    "King Arthur : Yes!\n",
    "Guard : You're using coconuts!\n",
    "King Arthur : What?\n",
    "Guard : You've get ... coconut[s] and you're bangin' 'em together\n",
    "\"\"\"\n",
    "print(multi_str)"
   ]
  },
  {
   "cell_type": "code",
   "execution_count": 32,
   "id": "fbffb6ba-87d4-4f8f-81f5-c9a137efb89f",
   "metadata": {},
   "outputs": [
    {
     "name": "stdout",
     "output_type": "stream",
     "text": [
      "['Guard : What? Ridden on a horse?', 'King Arthur : Yes!', \"Guard : You're using coconuts!\", 'King Arthur : What?', \"Guard : You've get ... coconut[s] and you're bangin' 'em together\"]\n"
     ]
    }
   ],
   "source": [
    "multi_str_split = multi_str.splitlines()\n",
    "print(multi_str_split)"
   ]
  },
  {
   "cell_type": "code",
   "execution_count": 33,
   "id": "b76a2436-5477-465d-ae25-691f97946694",
   "metadata": {},
   "outputs": [
    {
     "data": {
      "text/plain": [
       "['What? Ridden on a horse?',\n",
       " \"You're using coconuts!\",\n",
       " \"You've get ... coconut[s] and you're bangin' 'em together\"]"
      ]
     },
     "execution_count": 33,
     "metadata": {},
     "output_type": "execute_result"
    }
   ],
   "source": [
    "guard = multi_str.replace(\"Guard : \", \"\").splitlines()[::2]\n",
    "guard"
   ]
  },
  {
   "cell_type": "code",
   "execution_count": 34,
   "id": "75a331ad-9a59-490d-a06e-c9c837978e3b",
   "metadata": {},
   "outputs": [
    {
     "data": {
      "text/plain": [
       "'hello'"
      ]
     },
     "execution_count": 34,
     "metadata": {},
     "output_type": "execute_result"
    }
   ],
   "source": [
    "s = f\"hello\"\n",
    "s"
   ]
  },
  {
   "cell_type": "code",
   "execution_count": 35,
   "id": "3b48472c-5b79-4e68-baca-aebdc04822e2",
   "metadata": {},
   "outputs": [
    {
     "data": {
      "text/plain": [
       "'I only know 7 digits of pi.'"
      ]
     },
     "execution_count": 35,
     "metadata": {},
     "output_type": "execute_result"
    }
   ],
   "source": [
    "num = 7\n",
    "s = f\"I only know {num} digits of pi.\"\n",
    "s"
   ]
  },
  {
   "cell_type": "code",
   "execution_count": 36,
   "id": "030922f4-9b2d-4d8f-b963-6f0a0a033c33",
   "metadata": {},
   "outputs": [
    {
     "data": {
      "text/plain": [
       "'Some digits of a : 2.71'"
      ]
     },
     "execution_count": 36,
     "metadata": {},
     "output_type": "execute_result"
    }
   ],
   "source": [
    "const = \"a\"\n",
    "value = 2.710\n",
    "s = f\"Some digits of {const} : {value}\"\n",
    "s"
   ]
  },
  {
   "cell_type": "code",
   "execution_count": 37,
   "id": "84b9212f-0cc6-4f25-8ef1-1683a2b0291c",
   "metadata": {},
   "outputs": [
    {
     "data": {
      "text/plain": [
       "'Hayden Planetarium Cooodinates : 40.7015º N, 73.9733º W'"
      ]
     },
     "execution_count": 37,
     "metadata": {},
     "output_type": "execute_result"
    }
   ],
   "source": [
    "lat = \"40.7015º N\"\n",
    "len = \"73.9733º W\"\n",
    "s = f\"Hayden Planetarium Cooodinates : {lat}, {len}\"\n",
    "s"
   ]
  },
  {
   "cell_type": "code",
   "execution_count": 38,
   "id": "482e54a1-d7f6-43de-9584-a81f1a9e12c9",
   "metadata": {},
   "outputs": [
    {
     "data": {
      "text/plain": [
       "\"Black Knight : 'Tis but a scratch\\nKing Arthur : A scratch : Your arm's off!\\n\""
      ]
     },
     "execution_count": 38,
     "metadata": {},
     "output_type": "execute_result"
    }
   ],
   "source": [
    "word = \"scratch\"\n",
    "s = f\"\"\"Black Knight : 'Tis but a {word}\n",
    "King Arthur : A {word} : Your arm's off!\n",
    "\"\"\"\n",
    "s"
   ]
  },
  {
   "cell_type": "code",
   "execution_count": 39,
   "id": "f1501706-fabb-4688-93c2-e79ff5f28b3a",
   "metadata": {},
   "outputs": [
    {
     "name": "stdout",
     "output_type": "stream",
     "text": [
      "some digits of pi : 3.14159264359\n"
     ]
    }
   ],
   "source": [
    "p = 3.14159264359\n",
    "print(f\"some digits of pi : {p}\")"
   ]
  },
  {
   "cell_type": "code",
   "execution_count": 40,
   "id": "21d72f54-42b3-4bd1-bd3b-e9fae0b34070",
   "metadata": {},
   "outputs": [
    {
     "data": {
      "text/plain": [
       "'in 2005, Lu Chao of China recited 67,890 difits of pi.'"
      ]
     },
     "execution_count": 40,
     "metadata": {},
     "output_type": "execute_result"
    }
   ],
   "source": [
    "digits = 67890\n",
    "s = f\"in 2005, Lu Chao of China recited {digits:,} difits of pi.\"\n",
    "s"
   ]
  },
  {
   "cell_type": "code",
   "execution_count": 41,
   "id": "cbdc4cb7-e29b-4783-b451-76f06d8dca4e",
   "metadata": {},
   "outputs": [
    {
     "data": {
      "text/plain": [
       "'I remember 0.0001031 or 0.0103% of what Lu Chao recited.'"
      ]
     },
     "execution_count": 41,
     "metadata": {},
     "output_type": "execute_result"
    }
   ],
   "source": [
    "prop = 7 / 67890\n",
    "s = f\"I remember {prop:.4} or {prop:.4%} of what Lu Chao recited.\"\n",
    "s"
   ]
  },
  {
   "cell_type": "code",
   "execution_count": 42,
   "id": "ed647513-f9e2-4953-8d1b-35af37692606",
   "metadata": {},
   "outputs": [
    {
     "name": "stdout",
     "output_type": "stream",
     "text": [
      "My ID number is 00042\n"
     ]
    }
   ],
   "source": [
    "id = 42\n",
    "print(f\"My ID number is {id:05d}\")"
   ]
  },
  {
   "cell_type": "code",
   "execution_count": 43,
   "id": "9581846d-b99c-411e-a7fe-2f06ae7794f2",
   "metadata": {},
   "outputs": [
    {
     "name": "stdout",
     "output_type": "stream",
     "text": [
      "My ID number is 00042\n"
     ]
    }
   ],
   "source": [
    "id_zfill = \"42\".zfill(5)\n",
    "print(f\"My ID number is {id_zfill}\")"
   ]
  },
  {
   "cell_type": "code",
   "execution_count": 44,
   "id": "263d6b99-a37b-48f8-9711-ad762adcd021",
   "metadata": {},
   "outputs": [
    {
     "name": "stdout",
     "output_type": "stream",
     "text": [
      "My ID number is 00042\n"
     ]
    }
   ],
   "source": [
    "print(f\"My ID number is {'42'.zfill(5)}\")"
   ]
  },
  {
   "cell_type": "code",
   "execution_count": 45,
   "id": "852dcc37-b527-4a6e-8b86-795237b947a9",
   "metadata": {},
   "outputs": [],
   "source": [
    "import re\n",
    "\n",
    "tele_num = '1234567890'"
   ]
  },
  {
   "cell_type": "code",
   "execution_count": 46,
   "id": "79ee1bbb-9400-4686-8f28-aa5486eb95be",
   "metadata": {},
   "outputs": [
    {
     "data": {
      "text/plain": [
       "re.Match"
      ]
     },
     "execution_count": 46,
     "metadata": {},
     "output_type": "execute_result"
    }
   ],
   "source": [
    "m = re.match(pattern = '\\d\\d\\d\\d\\d\\d\\d\\d\\d\\d', string = tele_num)\n",
    "type(m)"
   ]
  },
  {
   "cell_type": "code",
   "execution_count": 47,
   "id": "453af3d2-49d0-4741-8ea6-ac12ccd8ce02",
   "metadata": {},
   "outputs": [
    {
     "data": {
      "text/plain": [
       "<re.Match object; span=(0, 10), match='1234567890'>"
      ]
     },
     "execution_count": 47,
     "metadata": {},
     "output_type": "execute_result"
    }
   ],
   "source": [
    "m"
   ]
  },
  {
   "cell_type": "code",
   "execution_count": 48,
   "id": "639e4e38-e946-47c4-96b4-0375332046fe",
   "metadata": {},
   "outputs": [
    {
     "data": {
      "text/plain": [
       "True"
      ]
     },
     "execution_count": 48,
     "metadata": {},
     "output_type": "execute_result"
    }
   ],
   "source": [
    "bool(m)"
   ]
  },
  {
   "cell_type": "code",
   "execution_count": 49,
   "id": "3999ec06-1659-42c3-acf8-a1efc965b8d6",
   "metadata": {},
   "outputs": [
    {
     "name": "stdout",
     "output_type": "stream",
     "text": [
      "match\n"
     ]
    }
   ],
   "source": [
    "if m:\n",
    "    print('match')\n",
    "else:\n",
    "    print('no match')"
   ]
  },
  {
   "cell_type": "code",
   "execution_count": 50,
   "id": "f83be049-f05a-4c9d-8e9f-7f62dcd59098",
   "metadata": {},
   "outputs": [
    {
     "data": {
      "text/plain": [
       "0"
      ]
     },
     "execution_count": 50,
     "metadata": {},
     "output_type": "execute_result"
    }
   ],
   "source": [
    "m.start()"
   ]
  },
  {
   "cell_type": "code",
   "execution_count": 51,
   "id": "72cca174-82b4-4afb-9a3f-0d83223e59a9",
   "metadata": {},
   "outputs": [
    {
     "data": {
      "text/plain": [
       "10"
      ]
     },
     "execution_count": 51,
     "metadata": {},
     "output_type": "execute_result"
    }
   ],
   "source": [
    "m.end()"
   ]
  },
  {
   "cell_type": "code",
   "execution_count": 52,
   "id": "d4ec89ad-dce7-47e6-8048-749042bfbcf1",
   "metadata": {},
   "outputs": [
    {
     "data": {
      "text/plain": [
       "(0, 10)"
      ]
     },
     "execution_count": 52,
     "metadata": {},
     "output_type": "execute_result"
    }
   ],
   "source": [
    "m.span()"
   ]
  },
  {
   "cell_type": "code",
   "execution_count": 53,
   "id": "aa791900-ed7c-4638-976f-8deffe44004a",
   "metadata": {},
   "outputs": [
    {
     "data": {
      "text/plain": [
       "'1234567890'"
      ]
     },
     "execution_count": 53,
     "metadata": {},
     "output_type": "execute_result"
    }
   ],
   "source": [
    "m.group()"
   ]
  },
  {
   "cell_type": "code",
   "execution_count": 59,
   "id": "2dad1d6a-01e0-4843-a5ec-7b27bf0e4b47",
   "metadata": {},
   "outputs": [
    {
     "name": "stdout",
     "output_type": "stream",
     "text": [
      "None\n"
     ]
    }
   ],
   "source": [
    "tele_num_space = '123 456 7890'\n",
    "m = re.match(pattern = '\\d{10}', string = tele_num_space)\n",
    "print(m)"
   ]
  },
  {
   "cell_type": "code",
   "execution_count": 60,
   "id": "207a13cb-933e-4917-993f-a312b9f9ccc7",
   "metadata": {},
   "outputs": [
    {
     "name": "stdout",
     "output_type": "stream",
     "text": [
      "no match\n"
     ]
    }
   ],
   "source": [
    "if m:\n",
    "    print('match')\n",
    "else:\n",
    "    print('no match')"
   ]
  },
  {
   "cell_type": "code",
   "execution_count": 61,
   "id": "a1f4bc7b-1980-4571-88d5-a7f8512cdd71",
   "metadata": {},
   "outputs": [
    {
     "data": {
      "text/plain": [
       "<re.Match object; span=(0, 12), match='123 456 7890'>"
      ]
     },
     "execution_count": 61,
     "metadata": {},
     "output_type": "execute_result"
    }
   ],
   "source": [
    "p = '\\d{3}\\s?\\d{3}\\s?\\d{4}'\n",
    "m = re.match(pattern = p, string = tele_num_space)\n",
    "m"
   ]
  },
  {
   "cell_type": "code",
   "execution_count": 63,
   "id": "43a75fe7-09f8-4648-a532-389598dba1c9",
   "metadata": {},
   "outputs": [
    {
     "data": {
      "text/plain": [
       "<re.Match object; span=(0, 14), match='(123) 456-7890'>"
      ]
     },
     "execution_count": 63,
     "metadata": {},
     "output_type": "execute_result"
    }
   ],
   "source": [
    "tele_num_space_paren_dash = '(123) 456-7890'\n",
    "p = '\\(?\\d{3}\\)?\\s?\\d{3}\\s?-?\\d{4}'\n",
    "m = re.match(pattern = p, string = tele_num_space_paren_dash)\n",
    "m"
   ]
  },
  {
   "cell_type": "code",
   "execution_count": 64,
   "id": "2c7869ce-c2de-4fb1-abb8-018af998c677",
   "metadata": {},
   "outputs": [
    {
     "data": {
      "text/plain": [
       "<re.Match object; span=(0, 17), match='+1 (123) 456-7890'>"
      ]
     },
     "execution_count": 64,
     "metadata": {},
     "output_type": "execute_result"
    }
   ],
   "source": [
    "cnty_tele_num_space_paren_dash = '+1 (123) 456-7890'\n",
    "p = '\\+?1\\s?\\(?\\d{3}\\)?\\s?\\d{3}\\s?-?\\d{4}'\n",
    "m = re.match(pattern = p, string = cnty_tele_num_space_paren_dash)\n",
    "m"
   ]
  },
  {
   "cell_type": "code",
   "execution_count": 66,
   "id": "0276d0cb-6a56-4280-ad1e-6d97bfec1ae0",
   "metadata": {},
   "outputs": [
    {
     "name": "stdout",
     "output_type": "stream",
     "text": [
      "\\+?1\\s?\\(?\\d{3}\\)?\\s?\\d{3}\\s?-?\\d{4}\n"
     ]
    }
   ],
   "source": [
    "p = (\n",
    "    '\\+?'\n",
    "    '1'\n",
    "    '\\s?'\n",
    "    '\\(?'\n",
    "    '\\d{3}'\n",
    "    '\\)?'\n",
    "    '\\s?'\n",
    "    '\\d{3}'\n",
    "    '\\s?'\n",
    "    '-?'\n",
    "    '\\d{4}'\n",
    ")\n",
    "print(p)"
   ]
  },
  {
   "cell_type": "code",
   "execution_count": 67,
   "id": "da575ed7-5bf1-47c8-99cf-3fe937d58579",
   "metadata": {},
   "outputs": [
    {
     "name": "stdout",
     "output_type": "stream",
     "text": [
      "<re.Match object; span=(0, 17), match='+1 (123) 456-7890'>\n"
     ]
    }
   ],
   "source": [
    "cnty_tele_num_space_paren_dash = '+1 (123) 456-7890'\n",
    "m = re.match(pattern = p, string = cnty_tele_num_space_paren_dash)\n",
    "print(m)"
   ]
  },
  {
   "cell_type": "code",
   "execution_count": 68,
   "id": "fdcf1df4-71b5-48d1-9b0d-3ba09cd342e9",
   "metadata": {},
   "outputs": [
    {
     "name": "stdout",
     "output_type": "stream",
     "text": [
      "14 Nculi Gulma, 13 Judie Whittaker, war John Hurt, 12 Peter Capaldi11 Matt Smith, 10 David Tennant, 9 Christopher Eccleston\n"
     ]
    }
   ],
   "source": [
    "s = (\n",
    "    \"14 Nculi Gulma, \"\n",
    "    \"13 Judie Whittaker, war John Hurt, 12 Peter Capaldi\"\n",
    "    \"11 Matt Smith, 10 David Tennant, 9 Christopher Eccleston\"\n",
    ")\n",
    "\n",
    "print(s)"
   ]
  },
  {
   "cell_type": "code",
   "execution_count": 71,
   "id": "3ba3b0e3-5e96-4d5f-8071-3a4c4dd394c0",
   "metadata": {},
   "outputs": [
    {
     "name": "stdout",
     "output_type": "stream",
     "text": [
      "['14', '13', '12', '11', '10', '9']\n"
     ]
    }
   ],
   "source": [
    "p = \"\\d+\"\n",
    "m = re.findall(pattern = p, string = s)\n",
    "print(m)"
   ]
  },
  {
   "cell_type": "code",
   "execution_count": 86,
   "id": "dae39c99-eb53-445b-8e34-71e41533bdea",
   "metadata": {},
   "outputs": [
    {
     "name": "stdout",
     "output_type": "stream",
     "text": [
      "What? Ridden on a horse?\n",
      "Yes!\n",
      "You're using coconuts!\n",
      "What?\n",
      "You've get ... coconut[s] and you're bangin' 'em together\n",
      "\n"
     ]
    }
   ],
   "source": [
    "p = '\\w+\\s?\\w+\\s?:\\s?'\n",
    "s = re.sub(pattern = p, string = multi_str, repl = '')\n",
    "print(s)"
   ]
  },
  {
   "cell_type": "code",
   "execution_count": 87,
   "id": "1aa6f65d-ccbb-4df0-92c3-ca4a8bbbd7cf",
   "metadata": {},
   "outputs": [
    {
     "data": {
      "text/plain": [
       "['What? Ridden on a horse?',\n",
       " \"You're using coconuts!\",\n",
       " \"You've get ... coconut[s] and you're bangin' 'em together\"]"
      ]
     },
     "execution_count": 87,
     "metadata": {},
     "output_type": "execute_result"
    }
   ],
   "source": [
    "guard = s.splitlines()[::2]\n",
    "kinga = s.splitlines()[1::2]\n",
    "guard"
   ]
  },
  {
   "cell_type": "code",
   "execution_count": 88,
   "id": "e6b48e1b-0e9f-4e1d-959b-d2f9695b7b13",
   "metadata": {},
   "outputs": [
    {
     "data": {
      "text/plain": [
       "['Yes!', 'What?']"
      ]
     },
     "execution_count": 88,
     "metadata": {},
     "output_type": "execute_result"
    }
   ],
   "source": [
    "kinga"
   ]
  },
  {
   "cell_type": "code",
   "execution_count": 89,
   "id": "95976b88-a379-4270-9fd7-bb0d43a30c91",
   "metadata": {},
   "outputs": [
    {
     "data": {
      "text/plain": [
       "<re.Match object; span=(0, 10), match='1234567890'>"
      ]
     },
     "execution_count": 89,
     "metadata": {},
     "output_type": "execute_result"
    }
   ],
   "source": [
    "p = re.compile('\\d{10}')\n",
    "s = '1234567890'\n",
    "m = p.match(s)\n",
    "m"
   ]
  },
  {
   "cell_type": "code",
   "execution_count": 90,
   "id": "813e4e0c-09fc-41a7-93c8-05abb46578e7",
   "metadata": {},
   "outputs": [
    {
     "data": {
      "text/plain": [
       "['14', '13', '12', '11', '10', '9']"
      ]
     },
     "execution_count": 90,
     "metadata": {},
     "output_type": "execute_result"
    }
   ],
   "source": [
    "p = re.compile('\\d+')\n",
    "s = (\n",
    "    \"14 Nculi Gulma, \"\n",
    "    \"13 Judie Whittaker, war John Hurt, 12 Peter Capaldi\"\n",
    "    \"11 Matt Smith, 10 David Tennant, 9 Christopher Eccleston\"\n",
    ")\n",
    "m = p.findall(s)\n",
    "m"
   ]
  },
  {
   "cell_type": "code",
   "execution_count": 91,
   "id": "7ef210cc-a2ad-4b73-b07a-347d86bdd6ea",
   "metadata": {},
   "outputs": [
    {
     "data": {
      "text/plain": [
       "\"You're using coconuts!\""
      ]
     },
     "execution_count": 91,
     "metadata": {},
     "output_type": "execute_result"
    }
   ],
   "source": [
    "p = re.compile('\\w+\\s?\\w+\\s?:\\s?')\n",
    "s = \"Guard : You're using coconuts!\"\n",
    "m = p.sub(string = s, repl='')\n",
    "m"
   ]
  },
  {
   "cell_type": "code",
   "execution_count": 102,
   "id": "92308fca-c116-4bdc-97be-589a9b6bbe6a",
   "metadata": {},
   "outputs": [
    {
     "name": "stdout",
     "output_type": "stream",
     "text": [
      "+1(123)456-7890\n"
     ]
    }
   ],
   "source": [
    "p = '[a-zA-Z, ]'\n",
    "multi_str = 'Jodie Whittaker, war John Hurt +1 (123) 456-7890'\n",
    "s = re.sub(pattern=p, string=multi_str, repl='')\n",
    "print(s)"
   ]
  },
  {
   "cell_type": "code",
   "execution_count": null,
   "id": "de71786d-736f-4513-a1ae-442f7a95cabe",
   "metadata": {},
   "outputs": [],
   "source": []
  }
 ],
 "metadata": {
  "kernelspec": {
   "display_name": "Python [conda env:python]",
   "language": "python",
   "name": "conda-env-python-py"
  },
  "language_info": {
   "codemirror_mode": {
    "name": "ipython",
    "version": 3
   },
   "file_extension": ".py",
   "mimetype": "text/x-python",
   "name": "python",
   "nbconvert_exporter": "python",
   "pygments_lexer": "ipython3",
   "version": "3.10.16"
  }
 },
 "nbformat": 4,
 "nbformat_minor": 5
}
