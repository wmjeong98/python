{
 "cells": [
  {
   "cell_type": "code",
   "execution_count": 189,
   "id": "bdb5730b",
   "metadata": {},
   "outputs": [
    {
     "data": {
      "text/html": [
       "<style>div.container { width:100% !important; }</style>"
      ],
      "text/plain": [
       "<IPython.core.display.HTML object>"
      ]
     },
     "metadata": {},
     "output_type": "display_data"
    }
   ],
   "source": [
    "from IPython.display import display, HTML\n",
    "display(HTML(\"<style>div.container { width:100% !important; }</style>\"))"
   ]
  },
  {
   "cell_type": "code",
   "execution_count": 222,
   "id": "9dee8c24",
   "metadata": {},
   "outputs": [],
   "source": [
    "import numpy as np\n",
    "import tensorflow as tf                              # tensorflow 기본 import\n",
    "from tensorflow.keras.models import Sequential       # model box 구성\n",
    "from tensorflow.keras.layers import Flatten, Dense, Input, Dropout # model 안의 input layer와\n",
    "                                                      # output layer를 구성\n",
    "from tensorflow.keras.optimizers import Adam         # 알고리즘 담당\n",
    "import sklearn\n",
    "from sklearn.model_selection import train_test_split # train Data, Test Data 분리\n",
    "from sklearn.preprocessing import MinMaxScaler       # 데이터 정규화\n",
    "                                                      # 컴퓨터가 큰숫자를 작은숫자로 변경\n",
    "                                                      # 0~1사이 실수 값으로 변경"
   ]
  },
  {
   "cell_type": "code",
   "execution_count": 223,
   "id": "173b150a",
   "metadata": {},
   "outputs": [
    {
     "data": {
      "text/html": [
       "<div>\n",
       "<style scoped>\n",
       "    .dataframe tbody tr th:only-of-type {\n",
       "        vertical-align: middle;\n",
       "    }\n",
       "\n",
       "    .dataframe tbody tr th {\n",
       "        vertical-align: top;\n",
       "    }\n",
       "\n",
       "    .dataframe thead th {\n",
       "        text-align: right;\n",
       "    }\n",
       "</style>\n",
       "<table border=\"1\" class=\"dataframe\">\n",
       "  <thead>\n",
       "    <tr style=\"text-align: right;\">\n",
       "      <th></th>\n",
       "      <th>Pregnancies</th>\n",
       "      <th>Glucose</th>\n",
       "      <th>BloodPressure</th>\n",
       "      <th>SkinThickness</th>\n",
       "      <th>Insulin</th>\n",
       "      <th>BMI</th>\n",
       "      <th>DiabetesPedigreeFunction</th>\n",
       "      <th>Age</th>\n",
       "      <th>Outcome</th>\n",
       "    </tr>\n",
       "  </thead>\n",
       "  <tbody>\n",
       "    <tr>\n",
       "      <th>0</th>\n",
       "      <td>6</td>\n",
       "      <td>148</td>\n",
       "      <td>72</td>\n",
       "      <td>35</td>\n",
       "      <td>0</td>\n",
       "      <td>33.6</td>\n",
       "      <td>0.627</td>\n",
       "      <td>50</td>\n",
       "      <td>1</td>\n",
       "    </tr>\n",
       "    <tr>\n",
       "      <th>1</th>\n",
       "      <td>1</td>\n",
       "      <td>85</td>\n",
       "      <td>66</td>\n",
       "      <td>29</td>\n",
       "      <td>0</td>\n",
       "      <td>26.6</td>\n",
       "      <td>0.351</td>\n",
       "      <td>31</td>\n",
       "      <td>0</td>\n",
       "    </tr>\n",
       "    <tr>\n",
       "      <th>2</th>\n",
       "      <td>8</td>\n",
       "      <td>183</td>\n",
       "      <td>64</td>\n",
       "      <td>0</td>\n",
       "      <td>0</td>\n",
       "      <td>23.3</td>\n",
       "      <td>0.672</td>\n",
       "      <td>32</td>\n",
       "      <td>1</td>\n",
       "    </tr>\n",
       "    <tr>\n",
       "      <th>3</th>\n",
       "      <td>1</td>\n",
       "      <td>89</td>\n",
       "      <td>66</td>\n",
       "      <td>23</td>\n",
       "      <td>94</td>\n",
       "      <td>28.1</td>\n",
       "      <td>0.167</td>\n",
       "      <td>21</td>\n",
       "      <td>0</td>\n",
       "    </tr>\n",
       "    <tr>\n",
       "      <th>4</th>\n",
       "      <td>0</td>\n",
       "      <td>137</td>\n",
       "      <td>40</td>\n",
       "      <td>35</td>\n",
       "      <td>168</td>\n",
       "      <td>43.1</td>\n",
       "      <td>2.288</td>\n",
       "      <td>33</td>\n",
       "      <td>1</td>\n",
       "    </tr>\n",
       "    <tr>\n",
       "      <th>...</th>\n",
       "      <td>...</td>\n",
       "      <td>...</td>\n",
       "      <td>...</td>\n",
       "      <td>...</td>\n",
       "      <td>...</td>\n",
       "      <td>...</td>\n",
       "      <td>...</td>\n",
       "      <td>...</td>\n",
       "      <td>...</td>\n",
       "    </tr>\n",
       "    <tr>\n",
       "      <th>763</th>\n",
       "      <td>10</td>\n",
       "      <td>101</td>\n",
       "      <td>76</td>\n",
       "      <td>48</td>\n",
       "      <td>180</td>\n",
       "      <td>32.9</td>\n",
       "      <td>0.171</td>\n",
       "      <td>63</td>\n",
       "      <td>0</td>\n",
       "    </tr>\n",
       "    <tr>\n",
       "      <th>764</th>\n",
       "      <td>2</td>\n",
       "      <td>122</td>\n",
       "      <td>70</td>\n",
       "      <td>27</td>\n",
       "      <td>0</td>\n",
       "      <td>36.8</td>\n",
       "      <td>0.340</td>\n",
       "      <td>27</td>\n",
       "      <td>0</td>\n",
       "    </tr>\n",
       "    <tr>\n",
       "      <th>765</th>\n",
       "      <td>5</td>\n",
       "      <td>121</td>\n",
       "      <td>72</td>\n",
       "      <td>23</td>\n",
       "      <td>112</td>\n",
       "      <td>26.2</td>\n",
       "      <td>0.245</td>\n",
       "      <td>30</td>\n",
       "      <td>0</td>\n",
       "    </tr>\n",
       "    <tr>\n",
       "      <th>766</th>\n",
       "      <td>1</td>\n",
       "      <td>126</td>\n",
       "      <td>60</td>\n",
       "      <td>0</td>\n",
       "      <td>0</td>\n",
       "      <td>30.1</td>\n",
       "      <td>0.349</td>\n",
       "      <td>47</td>\n",
       "      <td>1</td>\n",
       "    </tr>\n",
       "    <tr>\n",
       "      <th>767</th>\n",
       "      <td>1</td>\n",
       "      <td>93</td>\n",
       "      <td>70</td>\n",
       "      <td>31</td>\n",
       "      <td>0</td>\n",
       "      <td>30.4</td>\n",
       "      <td>0.315</td>\n",
       "      <td>23</td>\n",
       "      <td>0</td>\n",
       "    </tr>\n",
       "  </tbody>\n",
       "</table>\n",
       "<p>768 rows × 9 columns</p>\n",
       "</div>"
      ],
      "text/plain": [
       "     Pregnancies  Glucose  BloodPressure  SkinThickness  Insulin   BMI  \\\n",
       "0              6      148             72             35        0  33.6   \n",
       "1              1       85             66             29        0  26.6   \n",
       "2              8      183             64              0        0  23.3   \n",
       "3              1       89             66             23       94  28.1   \n",
       "4              0      137             40             35      168  43.1   \n",
       "..           ...      ...            ...            ...      ...   ...   \n",
       "763           10      101             76             48      180  32.9   \n",
       "764            2      122             70             27        0  36.8   \n",
       "765            5      121             72             23      112  26.2   \n",
       "766            1      126             60              0        0  30.1   \n",
       "767            1       93             70             31        0  30.4   \n",
       "\n",
       "     DiabetesPedigreeFunction  Age  Outcome  \n",
       "0                       0.627   50        1  \n",
       "1                       0.351   31        0  \n",
       "2                       0.672   32        1  \n",
       "3                       0.167   21        0  \n",
       "4                       2.288   33        1  \n",
       "..                        ...  ...      ...  \n",
       "763                     0.171   63        0  \n",
       "764                     0.340   27        0  \n",
       "765                     0.245   30        0  \n",
       "766                     0.349   47        1  \n",
       "767                     0.315   23        0  \n",
       "\n",
       "[768 rows x 9 columns]"
      ]
     },
     "execution_count": 223,
     "metadata": {},
     "output_type": "execute_result"
    }
   ],
   "source": [
    "import pandas as pd\n",
    "df = pd.read_csv(\"../data/diabetes.csv\")   #Pima Indians Diabetes : pima 인디언 당뇨 발생\n",
    "df"
   ]
  },
  {
   "cell_type": "code",
   "execution_count": 224,
   "id": "62a99620",
   "metadata": {},
   "outputs": [
    {
     "data": {
      "text/plain": [
       "(768, 9)"
      ]
     },
     "execution_count": 224,
     "metadata": {},
     "output_type": "execute_result"
    }
   ],
   "source": [
    "df = df.dropna()\n",
    "df.shape"
   ]
  },
  {
   "cell_type": "code",
   "execution_count": 225,
   "id": "36076461",
   "metadata": {},
   "outputs": [
    {
     "data": {
      "text/plain": [
       "Index(['Pregnancies', 'Glucose', 'BloodPressure', 'SkinThickness', 'Insulin',\n",
       "       'BMI', 'DiabetesPedigreeFunction', 'Age', 'Outcome'],\n",
       "      dtype='object')"
      ]
     },
     "execution_count": 225,
     "metadata": {},
     "output_type": "execute_result"
    }
   ],
   "source": [
    "cols = df.keys()\n",
    "cols"
   ]
  },
  {
   "cell_type": "code",
   "execution_count": 226,
   "id": "9390b015",
   "metadata": {},
   "outputs": [
    {
     "data": {
      "text/plain": [
       "(768, 9)"
      ]
     },
     "execution_count": 226,
     "metadata": {},
     "output_type": "execute_result"
    }
   ],
   "source": [
    "df.shape"
   ]
  },
  {
   "cell_type": "code",
   "execution_count": 227,
   "id": "d771efef",
   "metadata": {},
   "outputs": [],
   "source": [
    "# 독립변수와 종속변수를 분리해야 해요.\n",
    "x_data = df.drop('Outcome', axis=1, inplace=False)  # 2 차원 협태의 pixel(28 * 28)\n",
    "y_data = df['Outcome']    # 1차원"
   ]
  },
  {
   "cell_type": "code",
   "execution_count": 228,
   "id": "628e41cd",
   "metadata": {},
   "outputs": [
    {
     "data": {
      "text/plain": [
       "(768, 8)"
      ]
     },
     "execution_count": 228,
     "metadata": {},
     "output_type": "execute_result"
    }
   ],
   "source": [
    "x_data.shape"
   ]
  },
  {
   "cell_type": "code",
   "execution_count": 229,
   "id": "669a08af",
   "metadata": {},
   "outputs": [
    {
     "data": {
      "text/plain": [
       "(768,)"
      ]
     },
     "execution_count": 229,
     "metadata": {},
     "output_type": "execute_result"
    }
   ],
   "source": [
    "y_data.shape"
   ]
  },
  {
   "cell_type": "code",
   "execution_count": 230,
   "id": "c02de96d",
   "metadata": {},
   "outputs": [],
   "source": [
    "# pixel data(x_data) 를 정규화(0~1사이의 실수값으로 변화)\n",
    "\n",
    "scaler = MinMaxScaler()\n",
    "scaler.fit(x_data)        # scaler를 학습시키고 - min, max\n",
    "norm_x_data = scaler.transform(x_data)  # scaler 를 통해서 실제로 값을 변환(0 ~ 1 변경)"
   ]
  },
  {
   "cell_type": "code",
   "execution_count": 231,
   "id": "2faeab38",
   "metadata": {},
   "outputs": [
    {
     "data": {
      "text/plain": [
       "(768, 8)"
      ]
     },
     "execution_count": 231,
     "metadata": {},
     "output_type": "execute_result"
    }
   ],
   "source": [
    "norm_x_data.shape"
   ]
  },
  {
   "cell_type": "code",
   "execution_count": 232,
   "id": "89f38903",
   "metadata": {},
   "outputs": [
    {
     "data": {
      "text/plain": [
       "array([[0.35294118, 0.74371859, 0.59016393, ..., 0.50074516, 0.23441503,\n",
       "        0.48333333],\n",
       "       [0.05882353, 0.42713568, 0.54098361, ..., 0.39642325, 0.11656704,\n",
       "        0.16666667],\n",
       "       [0.47058824, 0.91959799, 0.52459016, ..., 0.34724292, 0.25362938,\n",
       "        0.18333333],\n",
       "       ...,\n",
       "       [0.29411765, 0.6080402 , 0.59016393, ..., 0.390462  , 0.07130658,\n",
       "        0.15      ],\n",
       "       [0.05882353, 0.63316583, 0.49180328, ..., 0.4485842 , 0.11571307,\n",
       "        0.43333333],\n",
       "       [0.05882353, 0.46733668, 0.57377049, ..., 0.45305514, 0.10119556,\n",
       "        0.03333333]])"
      ]
     },
     "execution_count": 232,
     "metadata": {},
     "output_type": "execute_result"
    }
   ],
   "source": [
    "norm_x_data"
   ]
  },
  {
   "cell_type": "code",
   "execution_count": 233,
   "id": "8bbfc463-7091-4290-8233-28567dcd2018",
   "metadata": {},
   "outputs": [],
   "source": [
    "x_train, x_test, y_train, y_test = train_test_split(norm_x_data, y_data, test_size=0.2, random_state=42)"
   ]
  },
  {
   "cell_type": "code",
   "execution_count": 234,
   "id": "fd06e729",
   "metadata": {},
   "outputs": [
    {
     "name": "stderr",
     "output_type": "stream",
     "text": [
      "C:\\Users\\user\\anaconda3\\envs\\python\\lib\\site-packages\\keras\\src\\layers\\core\\dense.py:93: UserWarning: Do not pass an `input_shape`/`input_dim` argument to a layer. When using Sequential models, prefer using an `Input(shape)` object as the first layer in the model instead.\n",
      "  super().__init__(activity_regularizer=activity_regularizer, **kwargs)\n"
     ]
    }
   ],
   "source": [
    "model = Sequential([\n",
    "    Dense(64, activation='relu', input_shape=(x_data.shape[1],)),\n",
    "    Dropout(0.3),\n",
    "    Dense(32, activation='relu'),\n",
    "    Dropout(0.3),\n",
    "    Dense(1, activation='sigmoid')  # 이진 분류니까 sigmoid\n",
    "])"
   ]
  },
  {
   "cell_type": "code",
   "execution_count": 235,
   "id": "ada2c7f6",
   "metadata": {},
   "outputs": [
    {
     "data": {
      "text/html": [
       "<pre style=\"white-space:pre;overflow-x:auto;line-height:normal;font-family:Menlo,'DejaVu Sans Mono',consolas,'Courier New',monospace\"><span style=\"font-weight: bold\">Model: \"sequential_8\"</span>\n",
       "</pre>\n"
      ],
      "text/plain": [
       "\u001b[1mModel: \"sequential_8\"\u001b[0m\n"
      ]
     },
     "metadata": {},
     "output_type": "display_data"
    },
    {
     "data": {
      "text/html": [
       "<pre style=\"white-space:pre;overflow-x:auto;line-height:normal;font-family:Menlo,'DejaVu Sans Mono',consolas,'Courier New',monospace\">┏━━━━━━━━━━━━━━━━━━━━━━━━━━━━━━━━━┳━━━━━━━━━━━━━━━━━━━━━━━━┳━━━━━━━━━━━━━━━┓\n",
       "┃<span style=\"font-weight: bold\"> Layer (type)                    </span>┃<span style=\"font-weight: bold\"> Output Shape           </span>┃<span style=\"font-weight: bold\">       Param # </span>┃\n",
       "┡━━━━━━━━━━━━━━━━━━━━━━━━━━━━━━━━━╇━━━━━━━━━━━━━━━━━━━━━━━━╇━━━━━━━━━━━━━━━┩\n",
       "│ dense_25 (<span style=\"color: #0087ff; text-decoration-color: #0087ff\">Dense</span>)                │ (<span style=\"color: #00d7ff; text-decoration-color: #00d7ff\">None</span>, <span style=\"color: #00af00; text-decoration-color: #00af00\">64</span>)             │           <span style=\"color: #00af00; text-decoration-color: #00af00\">576</span> │\n",
       "├─────────────────────────────────┼────────────────────────┼───────────────┤\n",
       "│ dropout_12 (<span style=\"color: #0087ff; text-decoration-color: #0087ff\">Dropout</span>)            │ (<span style=\"color: #00d7ff; text-decoration-color: #00d7ff\">None</span>, <span style=\"color: #00af00; text-decoration-color: #00af00\">64</span>)             │             <span style=\"color: #00af00; text-decoration-color: #00af00\">0</span> │\n",
       "├─────────────────────────────────┼────────────────────────┼───────────────┤\n",
       "│ dense_26 (<span style=\"color: #0087ff; text-decoration-color: #0087ff\">Dense</span>)                │ (<span style=\"color: #00d7ff; text-decoration-color: #00d7ff\">None</span>, <span style=\"color: #00af00; text-decoration-color: #00af00\">32</span>)             │         <span style=\"color: #00af00; text-decoration-color: #00af00\">2,080</span> │\n",
       "├─────────────────────────────────┼────────────────────────┼───────────────┤\n",
       "│ dropout_13 (<span style=\"color: #0087ff; text-decoration-color: #0087ff\">Dropout</span>)            │ (<span style=\"color: #00d7ff; text-decoration-color: #00d7ff\">None</span>, <span style=\"color: #00af00; text-decoration-color: #00af00\">32</span>)             │             <span style=\"color: #00af00; text-decoration-color: #00af00\">0</span> │\n",
       "├─────────────────────────────────┼────────────────────────┼───────────────┤\n",
       "│ dense_27 (<span style=\"color: #0087ff; text-decoration-color: #0087ff\">Dense</span>)                │ (<span style=\"color: #00d7ff; text-decoration-color: #00d7ff\">None</span>, <span style=\"color: #00af00; text-decoration-color: #00af00\">1</span>)              │            <span style=\"color: #00af00; text-decoration-color: #00af00\">33</span> │\n",
       "└─────────────────────────────────┴────────────────────────┴───────────────┘\n",
       "</pre>\n"
      ],
      "text/plain": [
       "┏━━━━━━━━━━━━━━━━━━━━━━━━━━━━━━━━━┳━━━━━━━━━━━━━━━━━━━━━━━━┳━━━━━━━━━━━━━━━┓\n",
       "┃\u001b[1m \u001b[0m\u001b[1mLayer (type)                   \u001b[0m\u001b[1m \u001b[0m┃\u001b[1m \u001b[0m\u001b[1mOutput Shape          \u001b[0m\u001b[1m \u001b[0m┃\u001b[1m \u001b[0m\u001b[1m      Param #\u001b[0m\u001b[1m \u001b[0m┃\n",
       "┡━━━━━━━━━━━━━━━━━━━━━━━━━━━━━━━━━╇━━━━━━━━━━━━━━━━━━━━━━━━╇━━━━━━━━━━━━━━━┩\n",
       "│ dense_25 (\u001b[38;5;33mDense\u001b[0m)                │ (\u001b[38;5;45mNone\u001b[0m, \u001b[38;5;34m64\u001b[0m)             │           \u001b[38;5;34m576\u001b[0m │\n",
       "├─────────────────────────────────┼────────────────────────┼───────────────┤\n",
       "│ dropout_12 (\u001b[38;5;33mDropout\u001b[0m)            │ (\u001b[38;5;45mNone\u001b[0m, \u001b[38;5;34m64\u001b[0m)             │             \u001b[38;5;34m0\u001b[0m │\n",
       "├─────────────────────────────────┼────────────────────────┼───────────────┤\n",
       "│ dense_26 (\u001b[38;5;33mDense\u001b[0m)                │ (\u001b[38;5;45mNone\u001b[0m, \u001b[38;5;34m32\u001b[0m)             │         \u001b[38;5;34m2,080\u001b[0m │\n",
       "├─────────────────────────────────┼────────────────────────┼───────────────┤\n",
       "│ dropout_13 (\u001b[38;5;33mDropout\u001b[0m)            │ (\u001b[38;5;45mNone\u001b[0m, \u001b[38;5;34m32\u001b[0m)             │             \u001b[38;5;34m0\u001b[0m │\n",
       "├─────────────────────────────────┼────────────────────────┼───────────────┤\n",
       "│ dense_27 (\u001b[38;5;33mDense\u001b[0m)                │ (\u001b[38;5;45mNone\u001b[0m, \u001b[38;5;34m1\u001b[0m)              │            \u001b[38;5;34m33\u001b[0m │\n",
       "└─────────────────────────────────┴────────────────────────┴───────────────┘\n"
      ]
     },
     "metadata": {},
     "output_type": "display_data"
    },
    {
     "data": {
      "text/html": [
       "<pre style=\"white-space:pre;overflow-x:auto;line-height:normal;font-family:Menlo,'DejaVu Sans Mono',consolas,'Courier New',monospace\"><span style=\"font-weight: bold\"> Total params: </span><span style=\"color: #00af00; text-decoration-color: #00af00\">2,689</span> (10.50 KB)\n",
       "</pre>\n"
      ],
      "text/plain": [
       "\u001b[1m Total params: \u001b[0m\u001b[38;5;34m2,689\u001b[0m (10.50 KB)\n"
      ]
     },
     "metadata": {},
     "output_type": "display_data"
    },
    {
     "data": {
      "text/html": [
       "<pre style=\"white-space:pre;overflow-x:auto;line-height:normal;font-family:Menlo,'DejaVu Sans Mono',consolas,'Courier New',monospace\"><span style=\"font-weight: bold\"> Trainable params: </span><span style=\"color: #00af00; text-decoration-color: #00af00\">2,689</span> (10.50 KB)\n",
       "</pre>\n"
      ],
      "text/plain": [
       "\u001b[1m Trainable params: \u001b[0m\u001b[38;5;34m2,689\u001b[0m (10.50 KB)\n"
      ]
     },
     "metadata": {},
     "output_type": "display_data"
    },
    {
     "data": {
      "text/html": [
       "<pre style=\"white-space:pre;overflow-x:auto;line-height:normal;font-family:Menlo,'DejaVu Sans Mono',consolas,'Courier New',monospace\"><span style=\"font-weight: bold\"> Non-trainable params: </span><span style=\"color: #00af00; text-decoration-color: #00af00\">0</span> (0.00 B)\n",
       "</pre>\n"
      ],
      "text/plain": [
       "\u001b[1m Non-trainable params: \u001b[0m\u001b[38;5;34m0\u001b[0m (0.00 B)\n"
      ]
     },
     "metadata": {},
     "output_type": "display_data"
    }
   ],
   "source": [
    "model.summary()"
   ]
  },
  {
   "cell_type": "code",
   "execution_count": 236,
   "id": "afbfe6fd",
   "metadata": {},
   "outputs": [],
   "source": [
    "model.compile(optimizer=Adam(learning_rate=0.001),\n",
    "              loss='binary_crossentropy',\n",
    "              metrics=['accuracy'])"
   ]
  },
  {
   "cell_type": "code",
   "execution_count": 237,
   "id": "cb3045fd",
   "metadata": {
    "scrolled": true
   },
   "outputs": [
    {
     "name": "stdout",
     "output_type": "stream",
     "text": [
      "Epoch 1/100\n",
      "\u001b[1m8/8\u001b[0m \u001b[32m━━━━━━━━━━━━━━━━━━━━\u001b[0m\u001b[37m\u001b[0m \u001b[1m1s\u001b[0m 32ms/step - accuracy: 0.5495 - loss: 0.6928 - val_accuracy: 0.6179 - val_loss: 0.6806\n",
      "Epoch 2/100\n",
      "\u001b[1m8/8\u001b[0m \u001b[32m━━━━━━━━━━━━━━━━━━━━\u001b[0m\u001b[37m\u001b[0m \u001b[1m0s\u001b[0m 11ms/step - accuracy: 0.5971 - loss: 0.6768 - val_accuracy: 0.6098 - val_loss: 0.6727\n",
      "Epoch 3/100\n",
      "\u001b[1m8/8\u001b[0m \u001b[32m━━━━━━━━━━━━━━━━━━━━\u001b[0m\u001b[37m\u001b[0m \u001b[1m0s\u001b[0m 11ms/step - accuracy: 0.6763 - loss: 0.6648 - val_accuracy: 0.6098 - val_loss: 0.6676\n",
      "Epoch 4/100\n",
      "\u001b[1m8/8\u001b[0m \u001b[32m━━━━━━━━━━━━━━━━━━━━\u001b[0m\u001b[37m\u001b[0m \u001b[1m0s\u001b[0m 12ms/step - accuracy: 0.6779 - loss: 0.6503 - val_accuracy: 0.6098 - val_loss: 0.6654\n",
      "Epoch 5/100\n",
      "\u001b[1m8/8\u001b[0m \u001b[32m━━━━━━━━━━━━━━━━━━━━\u001b[0m\u001b[37m\u001b[0m \u001b[1m0s\u001b[0m 11ms/step - accuracy: 0.6693 - loss: 0.6404 - val_accuracy: 0.6098 - val_loss: 0.6630\n",
      "Epoch 6/100\n",
      "\u001b[1m8/8\u001b[0m \u001b[32m━━━━━━━━━━━━━━━━━━━━\u001b[0m\u001b[37m\u001b[0m \u001b[1m0s\u001b[0m 11ms/step - accuracy: 0.6688 - loss: 0.6546 - val_accuracy: 0.6098 - val_loss: 0.6585\n",
      "Epoch 7/100\n",
      "\u001b[1m8/8\u001b[0m \u001b[32m━━━━━━━━━━━━━━━━━━━━\u001b[0m\u001b[37m\u001b[0m \u001b[1m0s\u001b[0m 13ms/step - accuracy: 0.6478 - loss: 0.6558 - val_accuracy: 0.6098 - val_loss: 0.6538\n",
      "Epoch 8/100\n",
      "\u001b[1m8/8\u001b[0m \u001b[32m━━━━━━━━━━━━━━━━━━━━\u001b[0m\u001b[37m\u001b[0m \u001b[1m0s\u001b[0m 12ms/step - accuracy: 0.6763 - loss: 0.6374 - val_accuracy: 0.6098 - val_loss: 0.6499\n",
      "Epoch 9/100\n",
      "\u001b[1m8/8\u001b[0m \u001b[32m━━━━━━━━━━━━━━━━━━━━\u001b[0m\u001b[37m\u001b[0m \u001b[1m0s\u001b[0m 12ms/step - accuracy: 0.6745 - loss: 0.6351 - val_accuracy: 0.6098 - val_loss: 0.6448\n",
      "Epoch 10/100\n",
      "\u001b[1m8/8\u001b[0m \u001b[32m━━━━━━━━━━━━━━━━━━━━\u001b[0m\u001b[37m\u001b[0m \u001b[1m0s\u001b[0m 11ms/step - accuracy: 0.6408 - loss: 0.6339 - val_accuracy: 0.6098 - val_loss: 0.6398\n",
      "Epoch 11/100\n",
      "\u001b[1m8/8\u001b[0m \u001b[32m━━━━━━━━━━━━━━━━━━━━\u001b[0m\u001b[37m\u001b[0m \u001b[1m0s\u001b[0m 10ms/step - accuracy: 0.6561 - loss: 0.6339 - val_accuracy: 0.5935 - val_loss: 0.6341\n",
      "Epoch 12/100\n",
      "\u001b[1m8/8\u001b[0m \u001b[32m━━━━━━━━━━━━━━━━━━━━\u001b[0m\u001b[37m\u001b[0m \u001b[1m0s\u001b[0m 12ms/step - accuracy: 0.6662 - loss: 0.6155 - val_accuracy: 0.6016 - val_loss: 0.6279\n",
      "Epoch 13/100\n",
      "\u001b[1m8/8\u001b[0m \u001b[32m━━━━━━━━━━━━━━━━━━━━\u001b[0m\u001b[37m\u001b[0m \u001b[1m0s\u001b[0m 13ms/step - accuracy: 0.6837 - loss: 0.6135 - val_accuracy: 0.6016 - val_loss: 0.6237\n",
      "Epoch 14/100\n",
      "\u001b[1m8/8\u001b[0m \u001b[32m━━━━━━━━━━━━━━━━━━━━\u001b[0m\u001b[37m\u001b[0m \u001b[1m0s\u001b[0m 13ms/step - accuracy: 0.6590 - loss: 0.6139 - val_accuracy: 0.6260 - val_loss: 0.6175\n",
      "Epoch 15/100\n",
      "\u001b[1m8/8\u001b[0m \u001b[32m━━━━━━━━━━━━━━━━━━━━\u001b[0m\u001b[37m\u001b[0m \u001b[1m0s\u001b[0m 12ms/step - accuracy: 0.6913 - loss: 0.5981 - val_accuracy: 0.6179 - val_loss: 0.6118\n",
      "Epoch 16/100\n",
      "\u001b[1m8/8\u001b[0m \u001b[32m━━━━━━━━━━━━━━━━━━━━\u001b[0m\u001b[37m\u001b[0m \u001b[1m0s\u001b[0m 12ms/step - accuracy: 0.6819 - loss: 0.6060 - val_accuracy: 0.6504 - val_loss: 0.6041\n",
      "Epoch 17/100\n",
      "\u001b[1m8/8\u001b[0m \u001b[32m━━━━━━━━━━━━━━━━━━━━\u001b[0m\u001b[37m\u001b[0m \u001b[1m0s\u001b[0m 12ms/step - accuracy: 0.7096 - loss: 0.5990 - val_accuracy: 0.6748 - val_loss: 0.5975\n",
      "Epoch 18/100\n",
      "\u001b[1m8/8\u001b[0m \u001b[32m━━━━━━━━━━━━━━━━━━━━\u001b[0m\u001b[37m\u001b[0m \u001b[1m0s\u001b[0m 12ms/step - accuracy: 0.7011 - loss: 0.5843 - val_accuracy: 0.6667 - val_loss: 0.5940\n",
      "Epoch 19/100\n",
      "\u001b[1m8/8\u001b[0m \u001b[32m━━━━━━━━━━━━━━━━━━━━\u001b[0m\u001b[37m\u001b[0m \u001b[1m0s\u001b[0m 12ms/step - accuracy: 0.6857 - loss: 0.5936 - val_accuracy: 0.6748 - val_loss: 0.5870\n",
      "Epoch 20/100\n",
      "\u001b[1m8/8\u001b[0m \u001b[32m━━━━━━━━━━━━━━━━━━━━\u001b[0m\u001b[37m\u001b[0m \u001b[1m0s\u001b[0m 11ms/step - accuracy: 0.6978 - loss: 0.5723 - val_accuracy: 0.6829 - val_loss: 0.5827\n",
      "Epoch 21/100\n",
      "\u001b[1m8/8\u001b[0m \u001b[32m━━━━━━━━━━━━━━━━━━━━\u001b[0m\u001b[37m\u001b[0m \u001b[1m0s\u001b[0m 9ms/step - accuracy: 0.7375 - loss: 0.5431 - val_accuracy: 0.6748 - val_loss: 0.5798\n",
      "Epoch 22/100\n",
      "\u001b[1m8/8\u001b[0m \u001b[32m━━━━━━━━━━━━━━━━━━━━\u001b[0m\u001b[37m\u001b[0m \u001b[1m0s\u001b[0m 11ms/step - accuracy: 0.6979 - loss: 0.5610 - val_accuracy: 0.6829 - val_loss: 0.5742\n",
      "Epoch 23/100\n",
      "\u001b[1m8/8\u001b[0m \u001b[32m━━━━━━━━━━━━━━━━━━━━\u001b[0m\u001b[37m\u001b[0m \u001b[1m0s\u001b[0m 11ms/step - accuracy: 0.7040 - loss: 0.5783 - val_accuracy: 0.6992 - val_loss: 0.5643\n",
      "Epoch 24/100\n",
      "\u001b[1m8/8\u001b[0m \u001b[32m━━━━━━━━━━━━━━━━━━━━\u001b[0m\u001b[37m\u001b[0m \u001b[1m0s\u001b[0m 11ms/step - accuracy: 0.6988 - loss: 0.5667 - val_accuracy: 0.7154 - val_loss: 0.5607\n",
      "Epoch 25/100\n",
      "\u001b[1m8/8\u001b[0m \u001b[32m━━━━━━━━━━━━━━━━━━━━\u001b[0m\u001b[37m\u001b[0m \u001b[1m0s\u001b[0m 12ms/step - accuracy: 0.7189 - loss: 0.5728 - val_accuracy: 0.7236 - val_loss: 0.5564\n",
      "Epoch 26/100\n",
      "\u001b[1m8/8\u001b[0m \u001b[32m━━━━━━━━━━━━━━━━━━━━\u001b[0m\u001b[37m\u001b[0m \u001b[1m0s\u001b[0m 11ms/step - accuracy: 0.6947 - loss: 0.5775 - val_accuracy: 0.7154 - val_loss: 0.5549\n",
      "Epoch 27/100\n",
      "\u001b[1m8/8\u001b[0m \u001b[32m━━━━━━━━━━━━━━━━━━━━\u001b[0m\u001b[37m\u001b[0m \u001b[1m0s\u001b[0m 11ms/step - accuracy: 0.7041 - loss: 0.5621 - val_accuracy: 0.7236 - val_loss: 0.5486\n",
      "Epoch 28/100\n",
      "\u001b[1m8/8\u001b[0m \u001b[32m━━━━━━━━━━━━━━━━━━━━\u001b[0m\u001b[37m\u001b[0m \u001b[1m0s\u001b[0m 11ms/step - accuracy: 0.7240 - loss: 0.5613 - val_accuracy: 0.7236 - val_loss: 0.5445\n",
      "Epoch 29/100\n",
      "\u001b[1m8/8\u001b[0m \u001b[32m━━━━━━━━━━━━━━━━━━━━\u001b[0m\u001b[37m\u001b[0m \u001b[1m0s\u001b[0m 12ms/step - accuracy: 0.7341 - loss: 0.5160 - val_accuracy: 0.7236 - val_loss: 0.5407\n",
      "Epoch 30/100\n",
      "\u001b[1m8/8\u001b[0m \u001b[32m━━━━━━━━━━━━━━━━━━━━\u001b[0m\u001b[37m\u001b[0m \u001b[1m0s\u001b[0m 12ms/step - accuracy: 0.7204 - loss: 0.5536 - val_accuracy: 0.7073 - val_loss: 0.5361\n",
      "Epoch 31/100\n",
      "\u001b[1m8/8\u001b[0m \u001b[32m━━━━━━━━━━━━━━━━━━━━\u001b[0m\u001b[37m\u001b[0m \u001b[1m0s\u001b[0m 10ms/step - accuracy: 0.7780 - loss: 0.5163 - val_accuracy: 0.7073 - val_loss: 0.5346\n",
      "Epoch 32/100\n",
      "\u001b[1m8/8\u001b[0m \u001b[32m━━━━━━━━━━━━━━━━━━━━\u001b[0m\u001b[37m\u001b[0m \u001b[1m0s\u001b[0m 9ms/step - accuracy: 0.7539 - loss: 0.5246 - val_accuracy: 0.7073 - val_loss: 0.5326\n",
      "Epoch 33/100\n",
      "\u001b[1m8/8\u001b[0m \u001b[32m━━━━━━━━━━━━━━━━━━━━\u001b[0m\u001b[37m\u001b[0m \u001b[1m0s\u001b[0m 10ms/step - accuracy: 0.7380 - loss: 0.5325 - val_accuracy: 0.6992 - val_loss: 0.5287\n",
      "Epoch 34/100\n",
      "\u001b[1m8/8\u001b[0m \u001b[32m━━━━━━━━━━━━━━━━━━━━\u001b[0m\u001b[37m\u001b[0m \u001b[1m0s\u001b[0m 11ms/step - accuracy: 0.7350 - loss: 0.5328 - val_accuracy: 0.7073 - val_loss: 0.5227\n",
      "Epoch 35/100\n",
      "\u001b[1m8/8\u001b[0m \u001b[32m━━━━━━━━━━━━━━━━━━━━\u001b[0m\u001b[37m\u001b[0m \u001b[1m0s\u001b[0m 11ms/step - accuracy: 0.7669 - loss: 0.4993 - val_accuracy: 0.7073 - val_loss: 0.5239\n",
      "Epoch 36/100\n",
      "\u001b[1m8/8\u001b[0m \u001b[32m━━━━━━━━━━━━━━━━━━━━\u001b[0m\u001b[37m\u001b[0m \u001b[1m0s\u001b[0m 11ms/step - accuracy: 0.7356 - loss: 0.5411 - val_accuracy: 0.7236 - val_loss: 0.5166\n",
      "Epoch 37/100\n",
      "\u001b[1m8/8\u001b[0m \u001b[32m━━━━━━━━━━━━━━━━━━━━\u001b[0m\u001b[37m\u001b[0m \u001b[1m0s\u001b[0m 11ms/step - accuracy: 0.7374 - loss: 0.5268 - val_accuracy: 0.7317 - val_loss: 0.5154\n",
      "Epoch 38/100\n",
      "\u001b[1m8/8\u001b[0m \u001b[32m━━━━━━━━━━━━━━━━━━━━\u001b[0m\u001b[37m\u001b[0m \u001b[1m0s\u001b[0m 11ms/step - accuracy: 0.7296 - loss: 0.5349 - val_accuracy: 0.7317 - val_loss: 0.5148\n",
      "Epoch 39/100\n",
      "\u001b[1m8/8\u001b[0m \u001b[32m━━━━━━━━━━━━━━━━━━━━\u001b[0m\u001b[37m\u001b[0m \u001b[1m0s\u001b[0m 11ms/step - accuracy: 0.7685 - loss: 0.5029 - val_accuracy: 0.7236 - val_loss: 0.5125\n",
      "Epoch 40/100\n",
      "\u001b[1m8/8\u001b[0m \u001b[32m━━━━━━━━━━━━━━━━━━━━\u001b[0m\u001b[37m\u001b[0m \u001b[1m0s\u001b[0m 9ms/step - accuracy: 0.7325 - loss: 0.5201 - val_accuracy: 0.7317 - val_loss: 0.5100\n",
      "Epoch 41/100\n",
      "\u001b[1m8/8\u001b[0m \u001b[32m━━━━━━━━━━━━━━━━━━━━\u001b[0m\u001b[37m\u001b[0m \u001b[1m0s\u001b[0m 11ms/step - accuracy: 0.7522 - loss: 0.5018 - val_accuracy: 0.7236 - val_loss: 0.5091\n",
      "Epoch 42/100\n",
      "\u001b[1m8/8\u001b[0m \u001b[32m━━━━━━━━━━━━━━━━━━━━\u001b[0m\u001b[37m\u001b[0m \u001b[1m0s\u001b[0m 11ms/step - accuracy: 0.7563 - loss: 0.5033 - val_accuracy: 0.7317 - val_loss: 0.5030\n",
      "Epoch 43/100\n",
      "\u001b[1m8/8\u001b[0m \u001b[32m━━━━━━━━━━━━━━━━━━━━\u001b[0m\u001b[37m\u001b[0m \u001b[1m0s\u001b[0m 11ms/step - accuracy: 0.7459 - loss: 0.5169 - val_accuracy: 0.7480 - val_loss: 0.5046\n",
      "Epoch 44/100\n",
      "\u001b[1m8/8\u001b[0m \u001b[32m━━━━━━━━━━━━━━━━━━━━\u001b[0m\u001b[37m\u001b[0m \u001b[1m0s\u001b[0m 10ms/step - accuracy: 0.7569 - loss: 0.4882 - val_accuracy: 0.7480 - val_loss: 0.5019\n",
      "Epoch 45/100\n",
      "\u001b[1m8/8\u001b[0m \u001b[32m━━━━━━━━━━━━━━━━━━━━\u001b[0m\u001b[37m\u001b[0m \u001b[1m0s\u001b[0m 11ms/step - accuracy: 0.7347 - loss: 0.5090 - val_accuracy: 0.7317 - val_loss: 0.4969\n",
      "Epoch 46/100\n",
      "\u001b[1m8/8\u001b[0m \u001b[32m━━━━━━━━━━━━━━━━━━━━\u001b[0m\u001b[37m\u001b[0m \u001b[1m0s\u001b[0m 11ms/step - accuracy: 0.7490 - loss: 0.4852 - val_accuracy: 0.7398 - val_loss: 0.4974\n",
      "Epoch 47/100\n",
      "\u001b[1m8/8\u001b[0m \u001b[32m━━━━━━━━━━━━━━━━━━━━\u001b[0m\u001b[37m\u001b[0m \u001b[1m0s\u001b[0m 11ms/step - accuracy: 0.7631 - loss: 0.4882 - val_accuracy: 0.7317 - val_loss: 0.4939\n",
      "Epoch 48/100\n",
      "\u001b[1m8/8\u001b[0m \u001b[32m━━━━━━━━━━━━━━━━━━━━\u001b[0m\u001b[37m\u001b[0m \u001b[1m0s\u001b[0m 9ms/step - accuracy: 0.7663 - loss: 0.4856 - val_accuracy: 0.7317 - val_loss: 0.4942\n",
      "Epoch 49/100\n",
      "\u001b[1m8/8\u001b[0m \u001b[32m━━━━━━━━━━━━━━━━━━━━\u001b[0m\u001b[37m\u001b[0m \u001b[1m0s\u001b[0m 11ms/step - accuracy: 0.7476 - loss: 0.5123 - val_accuracy: 0.7317 - val_loss: 0.4899\n",
      "Epoch 50/100\n",
      "\u001b[1m8/8\u001b[0m \u001b[32m━━━━━━━━━━━━━━━━━━━━\u001b[0m\u001b[37m\u001b[0m \u001b[1m0s\u001b[0m 11ms/step - accuracy: 0.7651 - loss: 0.4782 - val_accuracy: 0.7398 - val_loss: 0.4906\n",
      "Epoch 51/100\n",
      "\u001b[1m8/8\u001b[0m \u001b[32m━━━━━━━━━━━━━━━━━━━━\u001b[0m\u001b[37m\u001b[0m \u001b[1m0s\u001b[0m 11ms/step - accuracy: 0.7561 - loss: 0.4974 - val_accuracy: 0.7480 - val_loss: 0.4899\n",
      "Epoch 52/100\n",
      "\u001b[1m8/8\u001b[0m \u001b[32m━━━━━━━━━━━━━━━━━━━━\u001b[0m\u001b[37m\u001b[0m \u001b[1m0s\u001b[0m 12ms/step - accuracy: 0.7474 - loss: 0.4858 - val_accuracy: 0.7398 - val_loss: 0.4865\n",
      "Epoch 53/100\n",
      "\u001b[1m8/8\u001b[0m \u001b[32m━━━━━━━━━━━━━━━━━━━━\u001b[0m\u001b[37m\u001b[0m \u001b[1m0s\u001b[0m 12ms/step - accuracy: 0.7586 - loss: 0.4802 - val_accuracy: 0.7398 - val_loss: 0.4842\n",
      "Epoch 54/100\n",
      "\u001b[1m8/8\u001b[0m \u001b[32m━━━━━━━━━━━━━━━━━━━━\u001b[0m\u001b[37m\u001b[0m \u001b[1m0s\u001b[0m 11ms/step - accuracy: 0.7758 - loss: 0.4753 - val_accuracy: 0.7561 - val_loss: 0.4850\n",
      "Epoch 55/100\n",
      "\u001b[1m8/8\u001b[0m \u001b[32m━━━━━━━━━━━━━━━━━━━━\u001b[0m\u001b[37m\u001b[0m \u001b[1m0s\u001b[0m 10ms/step - accuracy: 0.7708 - loss: 0.4852 - val_accuracy: 0.7561 - val_loss: 0.4865\n",
      "Epoch 56/100\n",
      "\u001b[1m8/8\u001b[0m \u001b[32m━━━━━━━━━━━━━━━━━━━━\u001b[0m\u001b[37m\u001b[0m \u001b[1m0s\u001b[0m 11ms/step - accuracy: 0.7628 - loss: 0.4583 - val_accuracy: 0.7561 - val_loss: 0.4830\n",
      "Epoch 57/100\n",
      "\u001b[1m8/8\u001b[0m \u001b[32m━━━━━━━━━━━━━━━━━━━━\u001b[0m\u001b[37m\u001b[0m \u001b[1m0s\u001b[0m 12ms/step - accuracy: 0.7725 - loss: 0.4896 - val_accuracy: 0.7398 - val_loss: 0.4812\n",
      "Epoch 58/100\n",
      "\u001b[1m8/8\u001b[0m \u001b[32m━━━━━━━━━━━━━━━━━━━━\u001b[0m\u001b[37m\u001b[0m \u001b[1m0s\u001b[0m 11ms/step - accuracy: 0.7650 - loss: 0.4890 - val_accuracy: 0.7398 - val_loss: 0.4806\n",
      "Epoch 59/100\n",
      "\u001b[1m8/8\u001b[0m \u001b[32m━━━━━━━━━━━━━━━━━━━━\u001b[0m\u001b[37m\u001b[0m \u001b[1m0s\u001b[0m 11ms/step - accuracy: 0.7523 - loss: 0.4913 - val_accuracy: 0.7398 - val_loss: 0.4832\n",
      "Epoch 60/100\n",
      "\u001b[1m8/8\u001b[0m \u001b[32m━━━━━━━━━━━━━━━━━━━━\u001b[0m\u001b[37m\u001b[0m \u001b[1m0s\u001b[0m 11ms/step - accuracy: 0.7780 - loss: 0.4768 - val_accuracy: 0.7480 - val_loss: 0.4831\n",
      "Epoch 61/100\n",
      "\u001b[1m8/8\u001b[0m \u001b[32m━━━━━━━━━━━━━━━━━━━━\u001b[0m\u001b[37m\u001b[0m \u001b[1m0s\u001b[0m 11ms/step - accuracy: 0.7427 - loss: 0.4840 - val_accuracy: 0.7561 - val_loss: 0.4800\n",
      "Epoch 62/100\n",
      "\u001b[1m8/8\u001b[0m \u001b[32m━━━━━━━━━━━━━━━━━━━━\u001b[0m\u001b[37m\u001b[0m \u001b[1m0s\u001b[0m 11ms/step - accuracy: 0.7667 - loss: 0.4693 - val_accuracy: 0.7480 - val_loss: 0.4785\n",
      "Epoch 63/100\n",
      "\u001b[1m8/8\u001b[0m \u001b[32m━━━━━━━━━━━━━━━━━━━━\u001b[0m\u001b[37m\u001b[0m \u001b[1m0s\u001b[0m 11ms/step - accuracy: 0.7729 - loss: 0.4802 - val_accuracy: 0.7480 - val_loss: 0.4778\n",
      "Epoch 64/100\n",
      "\u001b[1m8/8\u001b[0m \u001b[32m━━━━━━━━━━━━━━━━━━━━\u001b[0m\u001b[37m\u001b[0m \u001b[1m0s\u001b[0m 11ms/step - accuracy: 0.7414 - loss: 0.4936 - val_accuracy: 0.7480 - val_loss: 0.4807\n",
      "Epoch 65/100\n",
      "\u001b[1m8/8\u001b[0m \u001b[32m━━━━━━━━━━━━━━━━━━━━\u001b[0m\u001b[37m\u001b[0m \u001b[1m0s\u001b[0m 11ms/step - accuracy: 0.7806 - loss: 0.4572 - val_accuracy: 0.7480 - val_loss: 0.4773\n",
      "Epoch 66/100\n",
      "\u001b[1m8/8\u001b[0m \u001b[32m━━━━━━━━━━━━━━━━━━━━\u001b[0m\u001b[37m\u001b[0m \u001b[1m0s\u001b[0m 12ms/step - accuracy: 0.7542 - loss: 0.4906 - val_accuracy: 0.7398 - val_loss: 0.4755\n",
      "Epoch 67/100\n",
      "\u001b[1m8/8\u001b[0m \u001b[32m━━━━━━━━━━━━━━━━━━━━\u001b[0m\u001b[37m\u001b[0m \u001b[1m0s\u001b[0m 17ms/step - accuracy: 0.7551 - loss: 0.4726 - val_accuracy: 0.7398 - val_loss: 0.4741\n",
      "Epoch 68/100\n",
      "\u001b[1m8/8\u001b[0m \u001b[32m━━━━━━━━━━━━━━━━━━━━\u001b[0m\u001b[37m\u001b[0m \u001b[1m0s\u001b[0m 12ms/step - accuracy: 0.8062 - loss: 0.4434 - val_accuracy: 0.7398 - val_loss: 0.4743\n",
      "Epoch 69/100\n",
      "\u001b[1m8/8\u001b[0m \u001b[32m━━━━━━━━━━━━━━━━━━━━\u001b[0m\u001b[37m\u001b[0m \u001b[1m0s\u001b[0m 10ms/step - accuracy: 0.7722 - loss: 0.4749 - val_accuracy: 0.7398 - val_loss: 0.4729\n",
      "Epoch 70/100\n",
      "\u001b[1m8/8\u001b[0m \u001b[32m━━━━━━━━━━━━━━━━━━━━\u001b[0m\u001b[37m\u001b[0m \u001b[1m0s\u001b[0m 9ms/step - accuracy: 0.7604 - loss: 0.4896 - val_accuracy: 0.7398 - val_loss: 0.4720\n",
      "Epoch 71/100\n",
      "\u001b[1m8/8\u001b[0m \u001b[32m━━━━━━━━━━━━━━━━━━━━\u001b[0m\u001b[37m\u001b[0m \u001b[1m0s\u001b[0m 10ms/step - accuracy: 0.7550 - loss: 0.4982 - val_accuracy: 0.7480 - val_loss: 0.4773\n",
      "Epoch 72/100\n",
      "\u001b[1m8/8\u001b[0m \u001b[32m━━━━━━━━━━━━━━━━━━━━\u001b[0m\u001b[37m\u001b[0m \u001b[1m0s\u001b[0m 11ms/step - accuracy: 0.7967 - loss: 0.4445 - val_accuracy: 0.7480 - val_loss: 0.4722\n",
      "Epoch 73/100\n",
      "\u001b[1m8/8\u001b[0m \u001b[32m━━━━━━━━━━━━━━━━━━━━\u001b[0m\u001b[37m\u001b[0m \u001b[1m0s\u001b[0m 11ms/step - accuracy: 0.7768 - loss: 0.4628 - val_accuracy: 0.7398 - val_loss: 0.4704\n",
      "Epoch 74/100\n",
      "\u001b[1m8/8\u001b[0m \u001b[32m━━━━━━━━━━━━━━━━━━━━\u001b[0m\u001b[37m\u001b[0m \u001b[1m0s\u001b[0m 11ms/step - accuracy: 0.7676 - loss: 0.4686 - val_accuracy: 0.7398 - val_loss: 0.4727\n",
      "Epoch 75/100\n",
      "\u001b[1m8/8\u001b[0m \u001b[32m━━━━━━━━━━━━━━━━━━━━\u001b[0m\u001b[37m\u001b[0m \u001b[1m0s\u001b[0m 11ms/step - accuracy: 0.7981 - loss: 0.4337 - val_accuracy: 0.7561 - val_loss: 0.4779\n",
      "Epoch 76/100\n",
      "\u001b[1m8/8\u001b[0m \u001b[32m━━━━━━━━━━━━━━━━━━━━\u001b[0m\u001b[37m\u001b[0m \u001b[1m0s\u001b[0m 12ms/step - accuracy: 0.7690 - loss: 0.4517 - val_accuracy: 0.7398 - val_loss: 0.4696\n",
      "Epoch 77/100\n",
      "\u001b[1m8/8\u001b[0m \u001b[32m━━━━━━━━━━━━━━━━━━━━\u001b[0m\u001b[37m\u001b[0m \u001b[1m0s\u001b[0m 10ms/step - accuracy: 0.7716 - loss: 0.4742 - val_accuracy: 0.7480 - val_loss: 0.4744\n",
      "Epoch 78/100\n",
      "\u001b[1m8/8\u001b[0m \u001b[32m━━━━━━━━━━━━━━━━━━━━\u001b[0m\u001b[37m\u001b[0m \u001b[1m0s\u001b[0m 11ms/step - accuracy: 0.7785 - loss: 0.4458 - val_accuracy: 0.7561 - val_loss: 0.4726\n",
      "Epoch 79/100\n",
      "\u001b[1m8/8\u001b[0m \u001b[32m━━━━━━━━━━━━━━━━━━━━\u001b[0m\u001b[37m\u001b[0m \u001b[1m0s\u001b[0m 11ms/step - accuracy: 0.7758 - loss: 0.4685 - val_accuracy: 0.7398 - val_loss: 0.4699\n",
      "Epoch 80/100\n",
      "\u001b[1m8/8\u001b[0m \u001b[32m━━━━━━━━━━━━━━━━━━━━\u001b[0m\u001b[37m\u001b[0m \u001b[1m0s\u001b[0m 10ms/step - accuracy: 0.7726 - loss: 0.4706 - val_accuracy: 0.7480 - val_loss: 0.4747\n",
      "Epoch 81/100\n",
      "\u001b[1m8/8\u001b[0m \u001b[32m━━━━━━━━━━━━━━━━━━━━\u001b[0m\u001b[37m\u001b[0m \u001b[1m0s\u001b[0m 11ms/step - accuracy: 0.7782 - loss: 0.4567 - val_accuracy: 0.7561 - val_loss: 0.4702\n",
      "Epoch 82/100\n",
      "\u001b[1m8/8\u001b[0m \u001b[32m━━━━━━━━━━━━━━━━━━━━\u001b[0m\u001b[37m\u001b[0m \u001b[1m0s\u001b[0m 11ms/step - accuracy: 0.7601 - loss: 0.4781 - val_accuracy: 0.7398 - val_loss: 0.4668\n",
      "Epoch 83/100\n",
      "\u001b[1m8/8\u001b[0m \u001b[32m━━━━━━━━━━━━━━━━━━━━\u001b[0m\u001b[37m\u001b[0m \u001b[1m0s\u001b[0m 12ms/step - accuracy: 0.7884 - loss: 0.4527 - val_accuracy: 0.7561 - val_loss: 0.4765\n",
      "Epoch 84/100\n",
      "\u001b[1m8/8\u001b[0m \u001b[32m━━━━━━━━━━━━━━━━━━━━\u001b[0m\u001b[37m\u001b[0m \u001b[1m0s\u001b[0m 12ms/step - accuracy: 0.7661 - loss: 0.4730 - val_accuracy: 0.7561 - val_loss: 0.4674\n",
      "Epoch 85/100\n",
      "\u001b[1m8/8\u001b[0m \u001b[32m━━━━━━━━━━━━━━━━━━━━\u001b[0m\u001b[37m\u001b[0m \u001b[1m0s\u001b[0m 11ms/step - accuracy: 0.8065 - loss: 0.4457 - val_accuracy: 0.7561 - val_loss: 0.4662\n",
      "Epoch 86/100\n",
      "\u001b[1m8/8\u001b[0m \u001b[32m━━━━━━━━━━━━━━━━━━━━\u001b[0m\u001b[37m\u001b[0m \u001b[1m0s\u001b[0m 11ms/step - accuracy: 0.7668 - loss: 0.4508 - val_accuracy: 0.7480 - val_loss: 0.4632\n",
      "Epoch 87/100\n",
      "\u001b[1m8/8\u001b[0m \u001b[32m━━━━━━━━━━━━━━━━━━━━\u001b[0m\u001b[37m\u001b[0m \u001b[1m0s\u001b[0m 11ms/step - accuracy: 0.8015 - loss: 0.4343 - val_accuracy: 0.7561 - val_loss: 0.4656\n",
      "Epoch 88/100\n",
      "\u001b[1m8/8\u001b[0m \u001b[32m━━━━━━━━━━━━━━━━━━━━\u001b[0m\u001b[37m\u001b[0m \u001b[1m0s\u001b[0m 12ms/step - accuracy: 0.7803 - loss: 0.4683 - val_accuracy: 0.7480 - val_loss: 0.4637\n",
      "Epoch 89/100\n",
      "\u001b[1m8/8\u001b[0m \u001b[32m━━━━━━━━━━━━━━━━━━━━\u001b[0m\u001b[37m\u001b[0m \u001b[1m0s\u001b[0m 11ms/step - accuracy: 0.7762 - loss: 0.4504 - val_accuracy: 0.7561 - val_loss: 0.4667\n",
      "Epoch 90/100\n",
      "\u001b[1m8/8\u001b[0m \u001b[32m━━━━━━━━━━━━━━━━━━━━\u001b[0m\u001b[37m\u001b[0m \u001b[1m0s\u001b[0m 12ms/step - accuracy: 0.7716 - loss: 0.4720 - val_accuracy: 0.7480 - val_loss: 0.4639\n",
      "Epoch 91/100\n",
      "\u001b[1m8/8\u001b[0m \u001b[32m━━━━━━━━━━━━━━━━━━━━\u001b[0m\u001b[37m\u001b[0m \u001b[1m0s\u001b[0m 11ms/step - accuracy: 0.7940 - loss: 0.4558 - val_accuracy: 0.7561 - val_loss: 0.4704\n",
      "Epoch 92/100\n",
      "\u001b[1m8/8\u001b[0m \u001b[32m━━━━━━━━━━━━━━━━━━━━\u001b[0m\u001b[37m\u001b[0m \u001b[1m0s\u001b[0m 10ms/step - accuracy: 0.7508 - loss: 0.4803 - val_accuracy: 0.7561 - val_loss: 0.4678\n",
      "Epoch 93/100\n",
      "\u001b[1m8/8\u001b[0m \u001b[32m━━━━━━━━━━━━━━━━━━━━\u001b[0m\u001b[37m\u001b[0m \u001b[1m0s\u001b[0m 11ms/step - accuracy: 0.8004 - loss: 0.4662 - val_accuracy: 0.7398 - val_loss: 0.4653\n",
      "Epoch 94/100\n",
      "\u001b[1m8/8\u001b[0m \u001b[32m━━━━━━━━━━━━━━━━━━━━\u001b[0m\u001b[37m\u001b[0m \u001b[1m0s\u001b[0m 11ms/step - accuracy: 0.7714 - loss: 0.4400 - val_accuracy: 0.7561 - val_loss: 0.4712\n",
      "Epoch 95/100\n",
      "\u001b[1m8/8\u001b[0m \u001b[32m━━━━━━━━━━━━━━━━━━━━\u001b[0m\u001b[37m\u001b[0m \u001b[1m0s\u001b[0m 11ms/step - accuracy: 0.7754 - loss: 0.4561 - val_accuracy: 0.7480 - val_loss: 0.4711\n",
      "Epoch 96/100\n",
      "\u001b[1m8/8\u001b[0m \u001b[32m━━━━━━━━━━━━━━━━━━━━\u001b[0m\u001b[37m\u001b[0m \u001b[1m0s\u001b[0m 12ms/step - accuracy: 0.7824 - loss: 0.4606 - val_accuracy: 0.7317 - val_loss: 0.4671\n",
      "Epoch 97/100\n",
      "\u001b[1m8/8\u001b[0m \u001b[32m━━━━━━━━━━━━━━━━━━━━\u001b[0m\u001b[37m\u001b[0m \u001b[1m0s\u001b[0m 11ms/step - accuracy: 0.7927 - loss: 0.4610 - val_accuracy: 0.7480 - val_loss: 0.4668\n",
      "Epoch 98/100\n",
      "\u001b[1m8/8\u001b[0m \u001b[32m━━━━━━━━━━━━━━━━━━━━\u001b[0m\u001b[37m\u001b[0m \u001b[1m0s\u001b[0m 10ms/step - accuracy: 0.8087 - loss: 0.4473 - val_accuracy: 0.7561 - val_loss: 0.4694\n",
      "Epoch 99/100\n",
      "\u001b[1m8/8\u001b[0m \u001b[32m━━━━━━━━━━━━━━━━━━━━\u001b[0m\u001b[37m\u001b[0m \u001b[1m0s\u001b[0m 10ms/step - accuracy: 0.8089 - loss: 0.4251 - val_accuracy: 0.7480 - val_loss: 0.4649\n",
      "Epoch 100/100\n",
      "\u001b[1m8/8\u001b[0m \u001b[32m━━━━━━━━━━━━━━━━━━━━\u001b[0m\u001b[37m\u001b[0m \u001b[1m0s\u001b[0m 9ms/step - accuracy: 0.7845 - loss: 0.4352 - val_accuracy: 0.7561 - val_loss: 0.4650\n"
     ]
    },
    {
     "name": "stdout",
     "output_type": "stream",
     "text": [
      "20/20 [==============================] - 0s 10ms/step - loss: 0.2129 - accuracy: 0.6710 - val_loss: 0.2329 - val_accuracy: 0.6494\n",
      "Epoch 59/400\n",
      "20/20 [==============================] - 0s 12ms/step - loss: 0.2116 - accuracy: 0.6759 - val_loss: 0.2317 - val_accuracy: 0.6429\n",
      "Epoch 60/400\n",
      "20/20 [==============================] - 0s 16ms/step - loss: 0.2141 - accuracy: 0.6743 - val_loss: 0.2326 - val_accuracy: 0.6494\n",
      "Epoch 61/400\n",
      "20/20 [==============================] - 0s 14ms/step - loss: 0.2106 - accuracy: 0.6759 - val_loss: 0.2337 - val_accuracy: 0.6494\n",
      "Epoch 62/400\n",
      "20/20 [==============================] - 0s 11ms/step - loss: 0.2102 - accuracy: 0.6775 - val_loss: 0.2312 - val_accuracy: 0.6494\n",
      "Epoch 63/400\n",
      "20/20 [==============================] - 0s 12ms/step - loss: 0.2100 - accuracy: 0.6824 - val_loss: 0.2342 - val_accuracy: 0.6494\n",
      "Epoch 64/400\n",
      "20/20 [==============================] - 0s 13ms/step - loss: 0.2144 - accuracy: 0.6678 - val_loss: 0.2314 - val_accuracy: 0.6494\n",
      "Epoch 65/400\n",
      "20/20 [==============================] - 0s 11ms/step - loss: 0.2118 - accuracy: 0.6824 - val_loss: 0.2339 - val_accuracy: 0.6494\n",
      "Epoch 66/400\n",
      "20/20 [==============================] - 0s 9ms/step - loss: 0.2112 - accuracy: 0.6775 - val_loss: 0.2348 - val_accuracy: 0.6364\n",
      "Epoch 67/400\n",
      "20/20 [==============================] - 0s 9ms/step - loss: 0.2104 - accuracy: 0.6873 - val_loss: 0.2336 - val_accuracy: 0.6429\n",
      "Epoch 68/400\n",
      "20/20 [==============================] - 0s 9ms/step - loss: 0.2097 - accuracy: 0.6792 - val_loss: 0.2350 - val_accuracy: 0.6494\n",
      "Epoch 69/400\n",
      "20/20 [==============================] - 0s 10ms/step - loss: 0.2101 - accuracy: 0.6792 - val_loss: 0.2334 - val_accuracy: 0.6558\n",
      "Epoch 70/400\n",
      "20/20 [==============================] - 0s 10ms/step - loss: 0.2072 - accuracy: 0.6873 - val_loss: 0.2346 - val_accuracy: 0.6364\n",
      "Epoch 71/400\n",
      "20/20 [==============================] - 0s 9ms/step - loss: 0.2075 - accuracy: 0.6840 - val_loss: 0.2362 - val_accuracy: 0.6429\n",
      "Epoch 72/400\n",
      "20/20 [==============================] - 0s 9ms/step - loss: 0.2067 - accuracy: 0.6792 - val_loss: 0.2389 - val_accuracy: 0.6429\n",
      "Epoch 73/400\n",
      "20/20 [==============================] - 0s 9ms/step - loss: 0.2062 - accuracy: 0.6873 - val_loss: 0.2369 - val_accuracy: 0.6364\n",
      "Epoch 74/400\n",
      "20/20 [==============================] - 0s 9ms/step - loss: 0.2065 - accuracy: 0.6775 - val_loss: 0.2350 - val_accuracy: 0.6429\n",
      "Epoch 75/400\n",
      "20/20 [==============================] - 0s 9ms/step - loss: 0.2063 - accuracy: 0.6906 - val_loss: 0.2418 - val_accuracy: 0.6429\n",
      "Epoch 76/400\n",
      "20/20 [==============================] - 0s 9ms/step - loss: 0.2072 - accuracy: 0.6873 - val_loss: 0.2374 - val_accuracy: 0.6429\n",
      "Epoch 77/400\n",
      "20/20 [==============================] - 0s 9ms/step - loss: 0.2029 - accuracy: 0.6922 - val_loss: 0.2361 - val_accuracy: 0.6429\n",
      "Epoch 78/400\n",
      "20/20 [==============================] - 0s 9ms/step - loss: 0.2033 - accuracy: 0.6906 - val_loss: 0.2401 - val_accuracy: 0.6494\n",
      "Epoch 79/400\n",
      "20/20 [==============================] - 0s 9ms/step - loss: 0.2068 - accuracy: 0.6922 - val_loss: 0.2416 - val_accuracy: 0.6429\n",
      "Epoch 80/400\n",
      "20/20 [==============================] - 0s 10ms/step - loss: 0.2027 - accuracy: 0.7020 - val_loss: 0.2369 - val_accuracy: 0.6364\n",
      "Epoch 81/400\n",
      "20/20 [==============================] - 0s 9ms/step - loss: 0.2026 - accuracy: 0.6840 - val_loss: 0.2385 - val_accuracy: 0.6299\n",
      "Epoch 82/400\n",
      "20/20 [==============================] - 0s 10ms/step - loss: 0.2014 - accuracy: 0.6954 - val_loss: 0.2402 - val_accuracy: 0.6364\n",
      "Epoch 83/400\n",
      "20/20 [==============================] - 0s 9ms/step - loss: 0.2016 - accuracy: 0.7117 - val_loss: 0.2399 - val_accuracy: 0.6299\n",
      "Epoch 84/400\n",
      "20/20 [==============================] - 0s 9ms/step - loss: 0.2021 - accuracy: 0.6889 - val_loss: 0.2384 - val_accuracy: 0.6558\n",
      "Epoch 85/400\n",
      "20/20 [==============================] - 0s 9ms/step - loss: 0.2007 - accuracy: 0.6922 - val_loss: 0.2414 - val_accuracy: 0.6429\n",
      "Epoch 86/400\n",
      "20/20 [==============================] - 0s 9ms/step - loss: 0.1994 - accuracy: 0.7052 - val_loss: 0.2433 - val_accuracy: 0.6169\n",
      "Epoch 87/400\n",
      "20/20 [==============================] - 0s 10ms/step - loss: 0.2017 - accuracy: 0.6971 - val_loss: 0.2413 - val_accuracy: 0.6104\n",
      "Epoch 88/400\n",
      "20/20 [==============================] - 0s 11ms/step - loss: 0.1978 - accuracy: 0.7003 - val_loss: 0.2436 - val_accuracy: 0.6364\n",
      "Epoch 89/400\n",
      "20/20 [==============================] - 0s 9ms/step - loss: 0.1977 - accuracy: 0.7020 - val_loss: 0.2422 - val_accuracy: 0.6299\n",
      "Epoch 90/400\n",
      "20/20 [==============================] - 0s 9ms/step - loss: 0.2007 - accuracy: 0.6987 - val_loss: 0.2436 - val_accuracy: 0.6364\n",
      "Epoch 91/400\n",
      "20/20 [==============================] - 0s 10ms/step - loss: 0.1973 - accuracy: 0.7036 - val_loss: 0.2407 - val_accuracy: 0.6234\n",
      "Epoch 92/400\n",
      "20/20 [==============================] - 0s 11ms/step - loss: 0.1984 - accuracy: 0.6971 - val_loss: 0.2415 - val_accuracy: 0.6364\n",
      "Epoch 93/400\n",
      "20/20 [==============================] - 0s 9ms/step - loss: 0.1951 - accuracy: 0.6987 - val_loss: 0.2438 - val_accuracy: 0.6299\n",
      "Epoch 94/400\n",
      "20/20 [==============================] - 0s 9ms/step - loss: 0.1938 - accuracy: 0.7101 - val_loss: 0.2448 - val_accuracy: 0.6429\n",
      "Epoch 95/400\n",
      "20/20 [==============================] - 0s 9ms/step - loss: 0.1948 - accuracy: 0.7085 - val_loss: 0.2430 - val_accuracy: 0.6299\n",
      "Epoch 96/400\n",
      "20/20 [==============================] - 0s 9ms/step - loss: 0.1910 - accuracy: 0.7101 - val_loss: 0.2465 - val_accuracy: 0.6104\n",
      "Epoch 97/400\n",
      "20/20 [==============================] - 0s 9ms/step - loss: 0.1919 - accuracy: 0.7117 - val_loss: 0.2419 - val_accuracy: 0.6364\n",
      "Epoch 98/400\n",
      "20/20 [==============================] - 0s 9ms/step - loss: 0.1934 - accuracy: 0.7036 - val_loss: 0.2478 - val_accuracy: 0.6234\n",
      "Epoch 99/400\n",
      "20/20 [==============================] - 0s 9ms/step - loss: 0.1914 - accuracy: 0.7166 - val_loss: 0.2431 - val_accuracy: 0.6169\n",
      "Epoch 100/400\n",
      "20/20 [==============================] - 0s 9ms/step - loss: 0.1897 - accuracy: 0.7101 - val_loss: 0.2456 - val_accuracy: 0.6299\n",
      "Epoch 101/400\n",
      "20/20 [==============================] - 0s 9ms/step - loss: 0.1929 - accuracy: 0.7003 - val_loss: 0.2450 - val_accuracy: 0.6364\n",
      "Epoch 102/400\n",
      "20/20 [==============================] - 0s 10ms/step - loss: 0.1870 - accuracy: 0.7182 - val_loss: 0.2470 - val_accuracy: 0.6104\n",
      "Epoch 103/400\n",
      "20/20 [==============================] - 0s 9ms/step - loss: 0.1878 - accuracy: 0.7199 - val_loss: 0.2436 - val_accuracy: 0.6169\n",
      "Epoch 104/400\n",
      "20/20 [==============================] - 0s 8ms/step - loss: 0.1875 - accuracy: 0.7199 - val_loss: 0.2466 - val_accuracy: 0.6494\n",
      "Epoch 105/400\n",
      "20/20 [==============================] - 0s 9ms/step - loss: 0.1852 - accuracy: 0.7150 - val_loss: 0.2488 - val_accuracy: 0.6169\n",
      "Epoch 106/400\n",
      "20/20 [==============================] - 0s 9ms/step - loss: 0.1863 - accuracy: 0.7150 - val_loss: 0.2492 - val_accuracy: 0.6234\n",
      "Epoch 107/400\n",
      "20/20 [==============================] - 0s 9ms/step - loss: 0.1870 - accuracy: 0.7117 - val_loss: 0.2483 - val_accuracy: 0.6364\n",
      "Epoch 108/400\n",
      "20/20 [==============================] - 0s 10ms/step - loss: 0.1852 - accuracy: 0.7264 - val_loss: 0.2487 - val_accuracy: 0.6429\n",
      "Epoch 109/400\n",
      "20/20 [==============================] - 0s 9ms/step - loss: 0.1850 - accuracy: 0.7215 - val_loss: 0.2504 - val_accuracy: 0.6429\n",
      "Epoch 110/400\n",
      "20/20 [==============================] - 0s 9ms/step - loss: 0.1924 - accuracy: 0.7003 - val_loss: 0.2450 - val_accuracy: 0.6169\n",
      "Epoch 111/400\n",
      "20/20 [==============================] - 0s 9ms/step - loss: 0.1850 - accuracy: 0.7248 - val_loss: 0.2552 - val_accuracy: 0.6234\n",
      "Epoch 112/400\n",
      "20/20 [==============================] - 0s 9ms/step - loss: 0.1897 - accuracy: 0.7134 - val_loss: 0.2477 - val_accuracy: 0.6169\n",
      "Epoch 113/400\n",
      "20/20 [==============================] - 0s 9ms/step - loss: 0.1820 - accuracy: 0.7215 - val_loss: 0.2461 - val_accuracy: 0.6429\n",
      "Epoch 114/400\n",
      "20/20 [==============================] - 0s 9ms/step - loss: 0.1820 - accuracy: 0.7362 - val_loss: 0.2487 - val_accuracy: 0.6429\n",
      "Epoch 115/400\n"
     ]
    },
    {
     "name": "stdout",
     "output_type": "stream",
     "text": [
      "20/20 [==============================] - 0s 9ms/step - loss: 0.1805 - accuracy: 0.7296 - val_loss: 0.2473 - val_accuracy: 0.6364\n",
      "Epoch 116/400\n",
      "20/20 [==============================] - 0s 9ms/step - loss: 0.1811 - accuracy: 0.7362 - val_loss: 0.2502 - val_accuracy: 0.6494\n",
      "Epoch 117/400\n",
      "20/20 [==============================] - 0s 9ms/step - loss: 0.1789 - accuracy: 0.7280 - val_loss: 0.2489 - val_accuracy: 0.6169\n",
      "Epoch 118/400\n",
      "20/20 [==============================] - 0s 9ms/step - loss: 0.1828 - accuracy: 0.7182 - val_loss: 0.2482 - val_accuracy: 0.6039\n",
      "Epoch 119/400\n",
      "20/20 [==============================] - 0s 9ms/step - loss: 0.1817 - accuracy: 0.7248 - val_loss: 0.2501 - val_accuracy: 0.6299\n",
      "Epoch 120/400\n",
      "20/20 [==============================] - 0s 9ms/step - loss: 0.1805 - accuracy: 0.7231 - val_loss: 0.2521 - val_accuracy: 0.6299\n",
      "Epoch 121/400\n",
      "20/20 [==============================] - 0s 9ms/step - loss: 0.1775 - accuracy: 0.7459 - val_loss: 0.2491 - val_accuracy: 0.6299\n",
      "Epoch 122/400\n",
      "20/20 [==============================] - 0s 9ms/step - loss: 0.1767 - accuracy: 0.7329 - val_loss: 0.2455 - val_accuracy: 0.6299\n",
      "Epoch 123/400\n",
      "20/20 [==============================] - 0s 13ms/step - loss: 0.1745 - accuracy: 0.7443 - val_loss: 0.2507 - val_accuracy: 0.6299\n",
      "Epoch 124/400\n",
      "20/20 [==============================] - 0s 11ms/step - loss: 0.1737 - accuracy: 0.7492 - val_loss: 0.2510 - val_accuracy: 0.6299\n",
      "Epoch 125/400\n",
      "20/20 [==============================] - 0s 11ms/step - loss: 0.1750 - accuracy: 0.7443 - val_loss: 0.2476 - val_accuracy: 0.6234\n",
      "Epoch 126/400\n",
      "20/20 [==============================] - 0s 10ms/step - loss: 0.1730 - accuracy: 0.7427 - val_loss: 0.2495 - val_accuracy: 0.6234\n",
      "Epoch 127/400\n",
      "20/20 [==============================] - 0s 10ms/step - loss: 0.1728 - accuracy: 0.7590 - val_loss: 0.2504 - val_accuracy: 0.6494\n",
      "Epoch 128/400\n",
      "20/20 [==============================] - 0s 12ms/step - loss: 0.1789 - accuracy: 0.7264 - val_loss: 0.2450 - val_accuracy: 0.6169\n",
      "Epoch 129/400\n",
      "20/20 [==============================] - 0s 12ms/step - loss: 0.1774 - accuracy: 0.7443 - val_loss: 0.2501 - val_accuracy: 0.6299\n",
      "Epoch 130/400\n",
      "20/20 [==============================] - 0s 11ms/step - loss: 0.1710 - accuracy: 0.7427 - val_loss: 0.2478 - val_accuracy: 0.6299\n",
      "Epoch 131/400\n",
      "20/20 [==============================] - 0s 12ms/step - loss: 0.1692 - accuracy: 0.7573 - val_loss: 0.2493 - val_accuracy: 0.6104\n",
      "Epoch 132/400\n",
      "20/20 [==============================] - 0s 10ms/step - loss: 0.1729 - accuracy: 0.7296 - val_loss: 0.2431 - val_accuracy: 0.6299\n",
      "Epoch 133/400\n",
      "20/20 [==============================] - 0s 10ms/step - loss: 0.1687 - accuracy: 0.7590 - val_loss: 0.2525 - val_accuracy: 0.6429\n",
      "Epoch 134/400\n",
      "20/20 [==============================] - 0s 12ms/step - loss: 0.1674 - accuracy: 0.7622 - val_loss: 0.2467 - val_accuracy: 0.6429\n",
      "Epoch 135/400\n",
      "20/20 [==============================] - 0s 12ms/step - loss: 0.1661 - accuracy: 0.7476 - val_loss: 0.2511 - val_accuracy: 0.6169\n",
      "Epoch 136/400\n",
      "20/20 [==============================] - 0s 13ms/step - loss: 0.1669 - accuracy: 0.7541 - val_loss: 0.2445 - val_accuracy: 0.6364\n",
      "Epoch 137/400\n",
      "20/20 [==============================] - 0s 10ms/step - loss: 0.1685 - accuracy: 0.7557 - val_loss: 0.2479 - val_accuracy: 0.6364\n",
      "Epoch 138/400\n",
      "20/20 [==============================] - 0s 11ms/step - loss: 0.1647 - accuracy: 0.7671 - val_loss: 0.2491 - val_accuracy: 0.6364\n",
      "Epoch 139/400\n",
      "20/20 [==============================] - 0s 10ms/step - loss: 0.1681 - accuracy: 0.7492 - val_loss: 0.2597 - val_accuracy: 0.6039\n",
      "Epoch 140/400\n",
      "20/20 [==============================] - 0s 11ms/step - loss: 0.1674 - accuracy: 0.7508 - val_loss: 0.2522 - val_accuracy: 0.6364\n",
      "Epoch 141/400\n",
      "20/20 [==============================] - 0s 12ms/step - loss: 0.1642 - accuracy: 0.7573 - val_loss: 0.2501 - val_accuracy: 0.6169\n",
      "Epoch 142/400\n",
      "20/20 [==============================] - 0s 11ms/step - loss: 0.1600 - accuracy: 0.7573 - val_loss: 0.2496 - val_accuracy: 0.6104\n",
      "Epoch 143/400\n",
      "20/20 [==============================] - 0s 20ms/step - loss: 0.1609 - accuracy: 0.7785 - val_loss: 0.2489 - val_accuracy: 0.6169\n",
      "Epoch 144/400\n",
      "20/20 [==============================] - 0s 16ms/step - loss: 0.1585 - accuracy: 0.7622 - val_loss: 0.2485 - val_accuracy: 0.6104\n",
      "Epoch 145/400\n",
      "20/20 [==============================] - 0s 9ms/step - loss: 0.1586 - accuracy: 0.7655 - val_loss: 0.2505 - val_accuracy: 0.6104\n",
      "Epoch 146/400\n",
      "20/20 [==============================] - 0s 12ms/step - loss: 0.1595 - accuracy: 0.7492 - val_loss: 0.2501 - val_accuracy: 0.6234\n",
      "Epoch 147/400\n",
      "20/20 [==============================] - 0s 10ms/step - loss: 0.1579 - accuracy: 0.7769 - val_loss: 0.2489 - val_accuracy: 0.6039\n",
      "Epoch 148/400\n",
      "20/20 [==============================] - 0s 14ms/step - loss: 0.1562 - accuracy: 0.7720 - val_loss: 0.2552 - val_accuracy: 0.6364\n",
      "Epoch 149/400\n",
      "20/20 [==============================] - 0s 13ms/step - loss: 0.1551 - accuracy: 0.7720 - val_loss: 0.2505 - val_accuracy: 0.6234\n",
      "Epoch 150/400\n",
      "20/20 [==============================] - 0s 16ms/step - loss: 0.1557 - accuracy: 0.7801 - val_loss: 0.2541 - val_accuracy: 0.6169\n",
      "Epoch 151/400\n",
      "20/20 [==============================] - 0s 14ms/step - loss: 0.1547 - accuracy: 0.7720 - val_loss: 0.2551 - val_accuracy: 0.6364\n",
      "Epoch 152/400\n",
      "20/20 [==============================] - 0s 14ms/step - loss: 0.1530 - accuracy: 0.7818 - val_loss: 0.2522 - val_accuracy: 0.6299\n",
      "Epoch 153/400\n",
      "20/20 [==============================] - 0s 14ms/step - loss: 0.1507 - accuracy: 0.7834 - val_loss: 0.2578 - val_accuracy: 0.6299\n",
      "Epoch 154/400\n",
      "20/20 [==============================] - 0s 14ms/step - loss: 0.1530 - accuracy: 0.7752 - val_loss: 0.2518 - val_accuracy: 0.6429\n",
      "Epoch 155/400\n",
      "20/20 [==============================] - 0s 13ms/step - loss: 0.1512 - accuracy: 0.7752 - val_loss: 0.2616 - val_accuracy: 0.6169\n",
      "Epoch 156/400\n",
      "20/20 [==============================] - 0s 15ms/step - loss: 0.1496 - accuracy: 0.7915 - val_loss: 0.2535 - val_accuracy: 0.6234\n",
      "Epoch 157/400\n",
      "20/20 [==============================] - 0s 15ms/step - loss: 0.1484 - accuracy: 0.7736 - val_loss: 0.2537 - val_accuracy: 0.6623\n",
      "Epoch 158/400\n",
      "20/20 [==============================] - 0s 14ms/step - loss: 0.1452 - accuracy: 0.7964 - val_loss: 0.2592 - val_accuracy: 0.6299\n",
      "Epoch 159/400\n",
      "20/20 [==============================] - 0s 14ms/step - loss: 0.1486 - accuracy: 0.7997 - val_loss: 0.2563 - val_accuracy: 0.6494\n",
      "Epoch 160/400\n",
      "20/20 [==============================] - 0s 10ms/step - loss: 0.1482 - accuracy: 0.7655 - val_loss: 0.2644 - val_accuracy: 0.6558\n",
      "Epoch 161/400\n",
      "20/20 [==============================] - 0s 14ms/step - loss: 0.1448 - accuracy: 0.7915 - val_loss: 0.2604 - val_accuracy: 0.6623\n",
      "Epoch 162/400\n",
      "20/20 [==============================] - 0s 12ms/step - loss: 0.1445 - accuracy: 0.7883 - val_loss: 0.2616 - val_accuracy: 0.6623\n",
      "Epoch 163/400\n",
      "20/20 [==============================] - 0s 12ms/step - loss: 0.1422 - accuracy: 0.7980 - val_loss: 0.2624 - val_accuracy: 0.6364\n",
      "Epoch 164/400\n",
      "20/20 [==============================] - 0s 17ms/step - loss: 0.1440 - accuracy: 0.7866 - val_loss: 0.2594 - val_accuracy: 0.6364\n",
      "Epoch 165/400\n",
      "20/20 [==============================] - 0s 13ms/step - loss: 0.1401 - accuracy: 0.7964 - val_loss: 0.2678 - val_accuracy: 0.6169\n",
      "Epoch 166/400\n",
      "20/20 [==============================] - 0s 15ms/step - loss: 0.1378 - accuracy: 0.7964 - val_loss: 0.2623 - val_accuracy: 0.6364\n",
      "Epoch 167/400\n",
      "20/20 [==============================] - 0s 13ms/step - loss: 0.1367 - accuracy: 0.7883 - val_loss: 0.2665 - val_accuracy: 0.6169\n",
      "Epoch 168/400\n",
      "20/20 [==============================] - 0s 12ms/step - loss: 0.1396 - accuracy: 0.8160 - val_loss: 0.2629 - val_accuracy: 0.6299\n",
      "Epoch 169/400\n",
      "20/20 [==============================] - 0s 18ms/step - loss: 0.1393 - accuracy: 0.7899 - val_loss: 0.2668 - val_accuracy: 0.6429\n",
      "Epoch 170/400\n",
      "20/20 [==============================] - 0s 13ms/step - loss: 0.1422 - accuracy: 0.7883 - val_loss: 0.2627 - val_accuracy: 0.6364\n",
      "Epoch 171/400\n",
      "20/20 [==============================] - 0s 15ms/step - loss: 0.1412 - accuracy: 0.7899 - val_loss: 0.2687 - val_accuracy: 0.6234\n",
      "Epoch 172/400\n"
     ]
    },
    {
     "name": "stdout",
     "output_type": "stream",
     "text": [
      "20/20 [==============================] - 0s 15ms/step - loss: 0.1348 - accuracy: 0.8046 - val_loss: 0.2681 - val_accuracy: 0.6299\n",
      "Epoch 173/400\n",
      "20/20 [==============================] - 0s 16ms/step - loss: 0.1378 - accuracy: 0.8062 - val_loss: 0.2666 - val_accuracy: 0.6299\n",
      "Epoch 174/400\n",
      "20/20 [==============================] - 0s 22ms/step - loss: 0.1318 - accuracy: 0.8046 - val_loss: 0.2722 - val_accuracy: 0.6169\n",
      "Epoch 175/400\n",
      "20/20 [==============================] - 0s 11ms/step - loss: 0.1342 - accuracy: 0.8111 - val_loss: 0.2668 - val_accuracy: 0.6234\n",
      "Epoch 176/400\n",
      "20/20 [==============================] - 0s 9ms/step - loss: 0.1312 - accuracy: 0.8225 - val_loss: 0.2667 - val_accuracy: 0.6299\n",
      "Epoch 177/400\n",
      "20/20 [==============================] - 0s 10ms/step - loss: 0.1340 - accuracy: 0.7948 - val_loss: 0.2706 - val_accuracy: 0.6234\n",
      "Epoch 178/400\n",
      "20/20 [==============================] - 0s 16ms/step - loss: 0.1305 - accuracy: 0.8094 - val_loss: 0.2696 - val_accuracy: 0.6299\n",
      "Epoch 179/400\n",
      "20/20 [==============================] - 0s 9ms/step - loss: 0.1296 - accuracy: 0.8094 - val_loss: 0.2794 - val_accuracy: 0.6039\n",
      "Epoch 180/400\n",
      "20/20 [==============================] - 0s 9ms/step - loss: 0.1296 - accuracy: 0.8192 - val_loss: 0.2790 - val_accuracy: 0.6364\n",
      "Epoch 181/400\n",
      "20/20 [==============================] - 0s 9ms/step - loss: 0.1300 - accuracy: 0.8143 - val_loss: 0.2691 - val_accuracy: 0.6623\n",
      "Epoch 182/400\n",
      "20/20 [==============================] - 0s 9ms/step - loss: 0.1257 - accuracy: 0.8208 - val_loss: 0.2724 - val_accuracy: 0.6169\n",
      "Epoch 183/400\n",
      "20/20 [==============================] - 0s 10ms/step - loss: 0.1253 - accuracy: 0.8371 - val_loss: 0.2705 - val_accuracy: 0.6494\n",
      "Epoch 184/400\n",
      "20/20 [==============================] - 0s 8ms/step - loss: 0.1233 - accuracy: 0.8339 - val_loss: 0.2706 - val_accuracy: 0.6364\n",
      "Epoch 185/400\n",
      "20/20 [==============================] - 0s 13ms/step - loss: 0.1212 - accuracy: 0.8306 - val_loss: 0.2839 - val_accuracy: 0.6234\n",
      "Epoch 186/400\n",
      "20/20 [==============================] - 0s 14ms/step - loss: 0.1218 - accuracy: 0.8388 - val_loss: 0.2784 - val_accuracy: 0.6299\n",
      "Epoch 187/400\n",
      "20/20 [==============================] - 0s 11ms/step - loss: 0.1201 - accuracy: 0.8453 - val_loss: 0.2713 - val_accuracy: 0.6364\n",
      "Epoch 188/400\n",
      "20/20 [==============================] - 0s 10ms/step - loss: 0.1234 - accuracy: 0.8290 - val_loss: 0.2779 - val_accuracy: 0.6039\n",
      "Epoch 189/400\n",
      "20/20 [==============================] - 0s 11ms/step - loss: 0.1270 - accuracy: 0.8290 - val_loss: 0.2731 - val_accuracy: 0.6429\n",
      "Epoch 190/400\n",
      "20/20 [==============================] - 0s 12ms/step - loss: 0.1198 - accuracy: 0.8469 - val_loss: 0.2777 - val_accuracy: 0.6039\n",
      "Epoch 191/400\n",
      "20/20 [==============================] - 0s 10ms/step - loss: 0.1179 - accuracy: 0.8469 - val_loss: 0.2859 - val_accuracy: 0.5974\n",
      "Epoch 192/400\n",
      "20/20 [==============================] - 0s 11ms/step - loss: 0.1187 - accuracy: 0.8371 - val_loss: 0.2732 - val_accuracy: 0.6169\n",
      "Epoch 193/400\n",
      "20/20 [==============================] - 0s 16ms/step - loss: 0.1183 - accuracy: 0.8388 - val_loss: 0.2799 - val_accuracy: 0.6039\n",
      "Epoch 194/400\n",
      "20/20 [==============================] - 0s 15ms/step - loss: 0.1165 - accuracy: 0.8469 - val_loss: 0.2795 - val_accuracy: 0.6429\n",
      "Epoch 195/400\n",
      "20/20 [==============================] - 0s 14ms/step - loss: 0.1129 - accuracy: 0.8583 - val_loss: 0.2823 - val_accuracy: 0.5974\n",
      "Epoch 196/400\n",
      "20/20 [==============================] - 0s 14ms/step - loss: 0.1149 - accuracy: 0.8453 - val_loss: 0.2826 - val_accuracy: 0.5974\n",
      "Epoch 197/400\n",
      "20/20 [==============================] - 0s 15ms/step - loss: 0.1150 - accuracy: 0.8420 - val_loss: 0.2849 - val_accuracy: 0.6169\n",
      "Epoch 198/400\n",
      "20/20 [==============================] - 0s 14ms/step - loss: 0.1171 - accuracy: 0.8485 - val_loss: 0.2746 - val_accuracy: 0.6364\n",
      "Epoch 199/400\n",
      "20/20 [==============================] - 0s 14ms/step - loss: 0.1187 - accuracy: 0.8388 - val_loss: 0.2925 - val_accuracy: 0.6039\n",
      "Epoch 200/400\n",
      "20/20 [==============================] - 0s 15ms/step - loss: 0.1111 - accuracy: 0.8599 - val_loss: 0.2853 - val_accuracy: 0.6039\n",
      "Epoch 201/400\n",
      "20/20 [==============================] - 0s 15ms/step - loss: 0.1089 - accuracy: 0.8518 - val_loss: 0.2963 - val_accuracy: 0.5974\n",
      "Epoch 202/400\n",
      "20/20 [==============================] - 0s 17ms/step - loss: 0.1128 - accuracy: 0.8502 - val_loss: 0.2825 - val_accuracy: 0.6169\n",
      "Epoch 203/400\n",
      "20/20 [==============================] - 0s 17ms/step - loss: 0.1130 - accuracy: 0.8599 - val_loss: 0.2949 - val_accuracy: 0.5909\n",
      "Epoch 204/400\n",
      "20/20 [==============================] - 0s 11ms/step - loss: 0.1126 - accuracy: 0.8502 - val_loss: 0.2939 - val_accuracy: 0.5844\n",
      "Epoch 205/400\n",
      "20/20 [==============================] - 0s 16ms/step - loss: 0.1121 - accuracy: 0.8388 - val_loss: 0.2929 - val_accuracy: 0.5844\n",
      "Epoch 206/400\n",
      "20/20 [==============================] - 0s 16ms/step - loss: 0.1128 - accuracy: 0.8518 - val_loss: 0.2941 - val_accuracy: 0.5844\n",
      "Epoch 207/400\n",
      "20/20 [==============================] - 0s 11ms/step - loss: 0.1096 - accuracy: 0.8518 - val_loss: 0.2949 - val_accuracy: 0.5909\n",
      "Epoch 208/400\n",
      "20/20 [==============================] - 0s 16ms/step - loss: 0.1031 - accuracy: 0.8762 - val_loss: 0.2907 - val_accuracy: 0.6104\n",
      "Epoch 209/400\n",
      "20/20 [==============================] - 0s 12ms/step - loss: 0.1027 - accuracy: 0.8827 - val_loss: 0.2947 - val_accuracy: 0.6039\n",
      "Epoch 210/400\n",
      "20/20 [==============================] - 0s 15ms/step - loss: 0.1025 - accuracy: 0.8632 - val_loss: 0.3022 - val_accuracy: 0.5779\n",
      "Epoch 211/400\n",
      "20/20 [==============================] - 0s 18ms/step - loss: 0.1047 - accuracy: 0.8664 - val_loss: 0.2960 - val_accuracy: 0.5844\n",
      "Epoch 212/400\n",
      "20/20 [==============================] - 0s 9ms/step - loss: 0.1032 - accuracy: 0.8697 - val_loss: 0.2933 - val_accuracy: 0.5779\n",
      "Epoch 213/400\n",
      "20/20 [==============================] - 0s 9ms/step - loss: 0.0990 - accuracy: 0.8746 - val_loss: 0.3041 - val_accuracy: 0.5844\n",
      "Epoch 214/400\n",
      "20/20 [==============================] - 0s 9ms/step - loss: 0.0999 - accuracy: 0.8697 - val_loss: 0.3003 - val_accuracy: 0.5974\n",
      "Epoch 215/400\n",
      "20/20 [==============================] - 0s 10ms/step - loss: 0.0989 - accuracy: 0.8681 - val_loss: 0.3061 - val_accuracy: 0.5714\n",
      "Epoch 216/400\n",
      "20/20 [==============================] - 0s 9ms/step - loss: 0.0986 - accuracy: 0.8713 - val_loss: 0.2973 - val_accuracy: 0.5779\n",
      "Epoch 217/400\n",
      "20/20 [==============================] - 0s 8ms/step - loss: 0.0969 - accuracy: 0.8876 - val_loss: 0.3011 - val_accuracy: 0.5844\n",
      "Epoch 218/400\n",
      "20/20 [==============================] - 0s 9ms/step - loss: 0.1006 - accuracy: 0.8779 - val_loss: 0.2997 - val_accuracy: 0.5714\n",
      "Epoch 219/400\n",
      "20/20 [==============================] - 0s 10ms/step - loss: 0.0982 - accuracy: 0.8844 - val_loss: 0.3045 - val_accuracy: 0.5714\n",
      "Epoch 220/400\n",
      "20/20 [==============================] - 0s 14ms/step - loss: 0.0937 - accuracy: 0.8844 - val_loss: 0.3043 - val_accuracy: 0.5649\n",
      "Epoch 221/400\n",
      "20/20 [==============================] - 0s 8ms/step - loss: 0.0937 - accuracy: 0.8860 - val_loss: 0.2992 - val_accuracy: 0.6039\n",
      "Epoch 222/400\n",
      "20/20 [==============================] - 0s 9ms/step - loss: 0.0933 - accuracy: 0.9072 - val_loss: 0.2987 - val_accuracy: 0.6039\n",
      "Epoch 223/400\n",
      "20/20 [==============================] - 0s 8ms/step - loss: 0.0964 - accuracy: 0.8795 - val_loss: 0.3125 - val_accuracy: 0.5584\n",
      "Epoch 224/400\n",
      "20/20 [==============================] - 0s 10ms/step - loss: 0.0914 - accuracy: 0.8974 - val_loss: 0.3063 - val_accuracy: 0.5909\n",
      "Epoch 225/400\n",
      "20/20 [==============================] - 0s 9ms/step - loss: 0.0920 - accuracy: 0.8860 - val_loss: 0.3061 - val_accuracy: 0.5779\n",
      "Epoch 226/400\n",
      "20/20 [==============================] - 0s 9ms/step - loss: 0.0913 - accuracy: 0.9023 - val_loss: 0.3105 - val_accuracy: 0.5649\n",
      "Epoch 227/400\n",
      "20/20 [==============================] - 0s 9ms/step - loss: 0.0898 - accuracy: 0.8860 - val_loss: 0.3114 - val_accuracy: 0.5649\n",
      "Epoch 228/400\n",
      "20/20 [==============================] - 0s 8ms/step - loss: 0.0867 - accuracy: 0.8909 - val_loss: 0.3086 - val_accuracy: 0.5455\n",
      "Epoch 229/400\n"
     ]
    },
    {
     "name": "stdout",
     "output_type": "stream",
     "text": [
      "20/20 [==============================] - 0s 9ms/step - loss: 0.0865 - accuracy: 0.8958 - val_loss: 0.3080 - val_accuracy: 0.5584\n",
      "Epoch 230/400\n",
      "20/20 [==============================] - 0s 15ms/step - loss: 0.0883 - accuracy: 0.8909 - val_loss: 0.3136 - val_accuracy: 0.5584\n",
      "Epoch 231/400\n",
      "20/20 [==============================] - 0s 9ms/step - loss: 0.0872 - accuracy: 0.8958 - val_loss: 0.3159 - val_accuracy: 0.5714\n",
      "Epoch 232/400\n",
      "20/20 [==============================] - 0s 9ms/step - loss: 0.0855 - accuracy: 0.8974 - val_loss: 0.3146 - val_accuracy: 0.5584\n",
      "Epoch 233/400\n",
      "20/20 [==============================] - 0s 10ms/step - loss: 0.0846 - accuracy: 0.9055 - val_loss: 0.3128 - val_accuracy: 0.5649\n",
      "Epoch 234/400\n",
      "20/20 [==============================] - 0s 9ms/step - loss: 0.0833 - accuracy: 0.9121 - val_loss: 0.3157 - val_accuracy: 0.5584\n",
      "Epoch 235/400\n",
      "20/20 [==============================] - 0s 8ms/step - loss: 0.0836 - accuracy: 0.8990 - val_loss: 0.3122 - val_accuracy: 0.5649\n",
      "Epoch 236/400\n",
      "20/20 [==============================] - 0s 9ms/step - loss: 0.0889 - accuracy: 0.9023 - val_loss: 0.3222 - val_accuracy: 0.5390\n",
      "Epoch 237/400\n",
      "20/20 [==============================] - 0s 13ms/step - loss: 0.0844 - accuracy: 0.9072 - val_loss: 0.3159 - val_accuracy: 0.5779\n",
      "Epoch 238/400\n",
      "20/20 [==============================] - 0s 11ms/step - loss: 0.0811 - accuracy: 0.8990 - val_loss: 0.3164 - val_accuracy: 0.5779\n",
      "Epoch 239/400\n",
      "20/20 [==============================] - 0s 9ms/step - loss: 0.0773 - accuracy: 0.9153 - val_loss: 0.3217 - val_accuracy: 0.5649\n",
      "Epoch 240/400\n",
      "20/20 [==============================] - 0s 9ms/step - loss: 0.0797 - accuracy: 0.9055 - val_loss: 0.3173 - val_accuracy: 0.5649\n",
      "Epoch 241/400\n",
      "20/20 [==============================] - 0s 8ms/step - loss: 0.0765 - accuracy: 0.9104 - val_loss: 0.3131 - val_accuracy: 0.5779\n",
      "Epoch 242/400\n",
      "20/20 [==============================] - 0s 8ms/step - loss: 0.0768 - accuracy: 0.9039 - val_loss: 0.3158 - val_accuracy: 0.5584\n",
      "Epoch 243/400\n",
      "20/20 [==============================] - 0s 8ms/step - loss: 0.0753 - accuracy: 0.9072 - val_loss: 0.3216 - val_accuracy: 0.5649\n",
      "Epoch 244/400\n",
      "20/20 [==============================] - 0s 16ms/step - loss: 0.0759 - accuracy: 0.9153 - val_loss: 0.3201 - val_accuracy: 0.5714\n",
      "Epoch 245/400\n",
      "20/20 [==============================] - 0s 9ms/step - loss: 0.0769 - accuracy: 0.9121 - val_loss: 0.3198 - val_accuracy: 0.5779\n",
      "Epoch 246/400\n",
      "20/20 [==============================] - 0s 10ms/step - loss: 0.0749 - accuracy: 0.9137 - val_loss: 0.3253 - val_accuracy: 0.5519\n",
      "Epoch 247/400\n",
      "20/20 [==============================] - 0s 9ms/step - loss: 0.0737 - accuracy: 0.9137 - val_loss: 0.3150 - val_accuracy: 0.5844\n",
      "Epoch 248/400\n",
      "20/20 [==============================] - 0s 8ms/step - loss: 0.0706 - accuracy: 0.9186 - val_loss: 0.3199 - val_accuracy: 0.5649\n",
      "Epoch 249/400\n",
      "20/20 [==============================] - 0s 8ms/step - loss: 0.0739 - accuracy: 0.9169 - val_loss: 0.3269 - val_accuracy: 0.5455\n",
      "Epoch 250/400\n",
      "20/20 [==============================] - 0s 8ms/step - loss: 0.0704 - accuracy: 0.9251 - val_loss: 0.3201 - val_accuracy: 0.5714\n",
      "Epoch 251/400\n",
      "20/20 [==============================] - 0s 9ms/step - loss: 0.0678 - accuracy: 0.9267 - val_loss: 0.3229 - val_accuracy: 0.5714\n",
      "Epoch 252/400\n",
      "20/20 [==============================] - 0s 8ms/step - loss: 0.0670 - accuracy: 0.9365 - val_loss: 0.3220 - val_accuracy: 0.5584\n",
      "Epoch 253/400\n",
      "20/20 [==============================] - 0s 9ms/step - loss: 0.0682 - accuracy: 0.9267 - val_loss: 0.3320 - val_accuracy: 0.5455\n",
      "Epoch 254/400\n",
      "20/20 [==============================] - 0s 8ms/step - loss: 0.0692 - accuracy: 0.9169 - val_loss: 0.3195 - val_accuracy: 0.5844\n",
      "Epoch 255/400\n",
      "20/20 [==============================] - 0s 9ms/step - loss: 0.0665 - accuracy: 0.9316 - val_loss: 0.3247 - val_accuracy: 0.5649\n",
      "Epoch 256/400\n",
      "20/20 [==============================] - 0s 8ms/step - loss: 0.0644 - accuracy: 0.9332 - val_loss: 0.3331 - val_accuracy: 0.5390\n",
      "Epoch 257/400\n",
      "20/20 [==============================] - 0s 8ms/step - loss: 0.0681 - accuracy: 0.9202 - val_loss: 0.3291 - val_accuracy: 0.5519\n",
      "Epoch 258/400\n",
      "20/20 [==============================] - 0s 9ms/step - loss: 0.0649 - accuracy: 0.9332 - val_loss: 0.3272 - val_accuracy: 0.5519\n",
      "Epoch 259/400\n",
      "20/20 [==============================] - 0s 11ms/step - loss: 0.0622 - accuracy: 0.9349 - val_loss: 0.3352 - val_accuracy: 0.5390\n",
      "Epoch 260/400\n",
      "20/20 [==============================] - 0s 10ms/step - loss: 0.0634 - accuracy: 0.9349 - val_loss: 0.3292 - val_accuracy: 0.5714\n",
      "Epoch 261/400\n",
      "20/20 [==============================] - 0s 9ms/step - loss: 0.0629 - accuracy: 0.9283 - val_loss: 0.3305 - val_accuracy: 0.5455\n",
      "Epoch 262/400\n",
      "20/20 [==============================] - 0s 11ms/step - loss: 0.0621 - accuracy: 0.9397 - val_loss: 0.3299 - val_accuracy: 0.5584\n",
      "Epoch 263/400\n",
      "20/20 [==============================] - 0s 12ms/step - loss: 0.0619 - accuracy: 0.9251 - val_loss: 0.3331 - val_accuracy: 0.5519\n",
      "Epoch 264/400\n",
      "20/20 [==============================] - 0s 10ms/step - loss: 0.0592 - accuracy: 0.9349 - val_loss: 0.3304 - val_accuracy: 0.5519\n",
      "Epoch 265/400\n",
      "20/20 [==============================] - 0s 10ms/step - loss: 0.0615 - accuracy: 0.9365 - val_loss: 0.3296 - val_accuracy: 0.5649\n",
      "Epoch 266/400\n",
      "20/20 [==============================] - 0s 10ms/step - loss: 0.0610 - accuracy: 0.9365 - val_loss: 0.3274 - val_accuracy: 0.5714\n",
      "Epoch 267/400\n",
      "20/20 [==============================] - 0s 11ms/step - loss: 0.0579 - accuracy: 0.9430 - val_loss: 0.3359 - val_accuracy: 0.5455\n",
      "Epoch 268/400\n",
      "20/20 [==============================] - 0s 9ms/step - loss: 0.0562 - accuracy: 0.9463 - val_loss: 0.3397 - val_accuracy: 0.5519\n",
      "Epoch 269/400\n",
      "20/20 [==============================] - 0s 11ms/step - loss: 0.0573 - accuracy: 0.9479 - val_loss: 0.3384 - val_accuracy: 0.5519\n",
      "Epoch 270/400\n",
      "20/20 [==============================] - 0s 10ms/step - loss: 0.0565 - accuracy: 0.9446 - val_loss: 0.3315 - val_accuracy: 0.5584\n",
      "Epoch 271/400\n",
      "20/20 [==============================] - 0s 10ms/step - loss: 0.0593 - accuracy: 0.9397 - val_loss: 0.3392 - val_accuracy: 0.5325\n",
      "Epoch 272/400\n",
      "20/20 [==============================] - 0s 10ms/step - loss: 0.0570 - accuracy: 0.9479 - val_loss: 0.3333 - val_accuracy: 0.5519\n",
      "Epoch 273/400\n",
      "20/20 [==============================] - 0s 10ms/step - loss: 0.0543 - accuracy: 0.9479 - val_loss: 0.3407 - val_accuracy: 0.5390\n",
      "Epoch 274/400\n",
      "20/20 [==============================] - 0s 11ms/step - loss: 0.0593 - accuracy: 0.9332 - val_loss: 0.3442 - val_accuracy: 0.5455\n",
      "Epoch 275/400\n",
      "20/20 [==============================] - 0s 10ms/step - loss: 0.0553 - accuracy: 0.9479 - val_loss: 0.3294 - val_accuracy: 0.5714\n",
      "Epoch 276/400\n",
      "20/20 [==============================] - 0s 10ms/step - loss: 0.0542 - accuracy: 0.9397 - val_loss: 0.3340 - val_accuracy: 0.5584\n",
      "Epoch 277/400\n",
      "20/20 [==============================] - 0s 10ms/step - loss: 0.0519 - accuracy: 0.9430 - val_loss: 0.3407 - val_accuracy: 0.5519\n",
      "Epoch 278/400\n",
      "20/20 [==============================] - 0s 10ms/step - loss: 0.0496 - accuracy: 0.9528 - val_loss: 0.3415 - val_accuracy: 0.5390\n",
      "Epoch 279/400\n",
      "20/20 [==============================] - 0s 10ms/step - loss: 0.0502 - accuracy: 0.9560 - val_loss: 0.3293 - val_accuracy: 0.5779\n",
      "Epoch 280/400\n",
      "20/20 [==============================] - 0s 10ms/step - loss: 0.0498 - accuracy: 0.9528 - val_loss: 0.3492 - val_accuracy: 0.5260\n",
      "Epoch 281/400\n",
      "20/20 [==============================] - 0s 18ms/step - loss: 0.0479 - accuracy: 0.9528 - val_loss: 0.3372 - val_accuracy: 0.5455\n",
      "Epoch 282/400\n",
      "20/20 [==============================] - 0s 16ms/step - loss: 0.0500 - accuracy: 0.9495 - val_loss: 0.3388 - val_accuracy: 0.5390\n",
      "Epoch 283/400\n",
      "20/20 [==============================] - 0s 16ms/step - loss: 0.0505 - accuracy: 0.9495 - val_loss: 0.3321 - val_accuracy: 0.5649\n",
      "Epoch 284/400\n",
      "20/20 [==============================] - 0s 11ms/step - loss: 0.0491 - accuracy: 0.9544 - val_loss: 0.3440 - val_accuracy: 0.5519\n",
      "Epoch 285/400\n",
      "20/20 [==============================] - 0s 15ms/step - loss: 0.0488 - accuracy: 0.9560 - val_loss: 0.3424 - val_accuracy: 0.5455\n",
      "Epoch 286/400\n"
     ]
    },
    {
     "name": "stdout",
     "output_type": "stream",
     "text": [
      "20/20 [==============================] - 0s 12ms/step - loss: 0.0480 - accuracy: 0.9609 - val_loss: 0.3400 - val_accuracy: 0.5519\n",
      "Epoch 287/400\n",
      "20/20 [==============================] - 0s 17ms/step - loss: 0.0486 - accuracy: 0.9511 - val_loss: 0.3393 - val_accuracy: 0.5649\n",
      "Epoch 288/400\n",
      "20/20 [==============================] - 0s 13ms/step - loss: 0.0493 - accuracy: 0.9511 - val_loss: 0.3397 - val_accuracy: 0.5649\n",
      "Epoch 289/400\n",
      "20/20 [==============================] - 0s 15ms/step - loss: 0.0472 - accuracy: 0.9528 - val_loss: 0.3391 - val_accuracy: 0.5584\n",
      "Epoch 290/400\n",
      "20/20 [==============================] - 0s 14ms/step - loss: 0.0460 - accuracy: 0.9528 - val_loss: 0.3496 - val_accuracy: 0.5390\n",
      "Epoch 291/400\n",
      "20/20 [==============================] - 0s 12ms/step - loss: 0.0424 - accuracy: 0.9609 - val_loss: 0.3480 - val_accuracy: 0.5519\n",
      "Epoch 292/400\n",
      "20/20 [==============================] - 0s 11ms/step - loss: 0.0436 - accuracy: 0.9577 - val_loss: 0.3336 - val_accuracy: 0.5779\n",
      "Epoch 293/400\n",
      "20/20 [==============================] - 0s 11ms/step - loss: 0.0430 - accuracy: 0.9511 - val_loss: 0.3342 - val_accuracy: 0.5584\n",
      "Epoch 294/400\n",
      "20/20 [==============================] - 0s 12ms/step - loss: 0.0419 - accuracy: 0.9658 - val_loss: 0.3423 - val_accuracy: 0.5584\n",
      "Epoch 295/400\n",
      "20/20 [==============================] - 0s 12ms/step - loss: 0.0416 - accuracy: 0.9609 - val_loss: 0.3487 - val_accuracy: 0.5519\n",
      "Epoch 296/400\n",
      "20/20 [==============================] - 0s 14ms/step - loss: 0.0431 - accuracy: 0.9625 - val_loss: 0.3416 - val_accuracy: 0.5649\n",
      "Epoch 297/400\n",
      "20/20 [==============================] - 0s 12ms/step - loss: 0.0413 - accuracy: 0.9642 - val_loss: 0.3400 - val_accuracy: 0.5649\n",
      "Epoch 298/400\n",
      "20/20 [==============================] - 0s 10ms/step - loss: 0.0403 - accuracy: 0.9642 - val_loss: 0.3550 - val_accuracy: 0.5325\n",
      "Epoch 299/400\n",
      "20/20 [==============================] - 0s 8ms/step - loss: 0.0397 - accuracy: 0.9707 - val_loss: 0.3429 - val_accuracy: 0.5519\n",
      "Epoch 300/400\n",
      "20/20 [==============================] - 0s 8ms/step - loss: 0.0393 - accuracy: 0.9642 - val_loss: 0.3467 - val_accuracy: 0.5714\n",
      "Epoch 301/400\n",
      "20/20 [==============================] - 0s 10ms/step - loss: 0.0396 - accuracy: 0.9642 - val_loss: 0.3419 - val_accuracy: 0.5779\n",
      "Epoch 302/400\n",
      "20/20 [==============================] - 0s 13ms/step - loss: 0.0393 - accuracy: 0.9674 - val_loss: 0.3302 - val_accuracy: 0.5974\n",
      "Epoch 303/400\n",
      "20/20 [==============================] - 0s 20ms/step - loss: 0.0378 - accuracy: 0.9658 - val_loss: 0.3457 - val_accuracy: 0.5779\n",
      "Epoch 304/400\n",
      "20/20 [==============================] - 0s 8ms/step - loss: 0.0377 - accuracy: 0.9642 - val_loss: 0.3434 - val_accuracy: 0.5649\n",
      "Epoch 305/400\n",
      "20/20 [==============================] - 0s 7ms/step - loss: 0.0369 - accuracy: 0.9658 - val_loss: 0.3365 - val_accuracy: 0.5714\n",
      "Epoch 306/400\n",
      "20/20 [==============================] - 0s 8ms/step - loss: 0.0361 - accuracy: 0.9691 - val_loss: 0.3433 - val_accuracy: 0.5714\n",
      "Epoch 307/400\n",
      "20/20 [==============================] - 0s 8ms/step - loss: 0.0342 - accuracy: 0.9739 - val_loss: 0.3345 - val_accuracy: 0.5779\n",
      "Epoch 308/400\n",
      "20/20 [==============================] - 0s 9ms/step - loss: 0.0359 - accuracy: 0.9723 - val_loss: 0.3451 - val_accuracy: 0.5584\n",
      "Epoch 309/400\n",
      "20/20 [==============================] - 0s 12ms/step - loss: 0.0342 - accuracy: 0.9739 - val_loss: 0.3393 - val_accuracy: 0.5844\n",
      "Epoch 310/400\n",
      "20/20 [==============================] - 0s 8ms/step - loss: 0.0349 - accuracy: 0.9674 - val_loss: 0.3392 - val_accuracy: 0.5649\n",
      "Epoch 311/400\n",
      "20/20 [==============================] - 0s 8ms/step - loss: 0.0382 - accuracy: 0.9707 - val_loss: 0.3345 - val_accuracy: 0.5779\n",
      "Epoch 312/400\n",
      "20/20 [==============================] - 0s 8ms/step - loss: 0.0363 - accuracy: 0.9723 - val_loss: 0.3350 - val_accuracy: 0.5779\n",
      "Epoch 313/400\n",
      "20/20 [==============================] - 0s 8ms/step - loss: 0.0326 - accuracy: 0.9772 - val_loss: 0.3417 - val_accuracy: 0.5844\n",
      "Epoch 314/400\n",
      "20/20 [==============================] - 0s 11ms/step - loss: 0.0348 - accuracy: 0.9691 - val_loss: 0.3476 - val_accuracy: 0.5779\n",
      "Epoch 315/400\n",
      "20/20 [==============================] - 0s 12ms/step - loss: 0.0336 - accuracy: 0.9691 - val_loss: 0.3326 - val_accuracy: 0.5844\n",
      "Epoch 316/400\n",
      "20/20 [==============================] - 0s 12ms/step - loss: 0.0317 - accuracy: 0.9756 - val_loss: 0.3361 - val_accuracy: 0.5844\n",
      "Epoch 317/400\n",
      "20/20 [==============================] - 0s 14ms/step - loss: 0.0286 - accuracy: 0.9805 - val_loss: 0.3486 - val_accuracy: 0.5779\n",
      "Epoch 318/400\n",
      "20/20 [==============================] - 0s 11ms/step - loss: 0.0289 - accuracy: 0.9788 - val_loss: 0.3478 - val_accuracy: 0.5649\n",
      "Epoch 319/400\n",
      "20/20 [==============================] - 0s 10ms/step - loss: 0.0285 - accuracy: 0.9805 - val_loss: 0.3409 - val_accuracy: 0.5974\n",
      "Epoch 320/400\n",
      "20/20 [==============================] - 0s 12ms/step - loss: 0.0307 - accuracy: 0.9788 - val_loss: 0.3440 - val_accuracy: 0.5844\n",
      "Epoch 321/400\n",
      "20/20 [==============================] - 0s 11ms/step - loss: 0.0305 - accuracy: 0.9772 - val_loss: 0.3454 - val_accuracy: 0.5779\n",
      "Epoch 322/400\n",
      "20/20 [==============================] - 0s 12ms/step - loss: 0.0287 - accuracy: 0.9853 - val_loss: 0.3428 - val_accuracy: 0.5909\n",
      "Epoch 323/400\n",
      "20/20 [==============================] - 0s 13ms/step - loss: 0.0269 - accuracy: 0.9788 - val_loss: 0.3401 - val_accuracy: 0.5844\n",
      "Epoch 324/400\n",
      "20/20 [==============================] - 0s 9ms/step - loss: 0.0282 - accuracy: 0.9853 - val_loss: 0.3380 - val_accuracy: 0.5909\n",
      "Epoch 325/400\n",
      "20/20 [==============================] - 0s 11ms/step - loss: 0.0275 - accuracy: 0.9772 - val_loss: 0.3464 - val_accuracy: 0.5779\n",
      "Epoch 326/400\n",
      "20/20 [==============================] - 0s 11ms/step - loss: 0.0325 - accuracy: 0.9723 - val_loss: 0.3372 - val_accuracy: 0.6039\n",
      "Epoch 327/400\n",
      "20/20 [==============================] - 0s 13ms/step - loss: 0.0294 - accuracy: 0.9772 - val_loss: 0.3418 - val_accuracy: 0.5844\n",
      "Epoch 328/400\n",
      "20/20 [==============================] - 0s 9ms/step - loss: 0.0273 - accuracy: 0.9837 - val_loss: 0.3415 - val_accuracy: 0.5844\n",
      "Epoch 329/400\n",
      "20/20 [==============================] - 0s 14ms/step - loss: 0.0272 - accuracy: 0.9805 - val_loss: 0.3344 - val_accuracy: 0.5974\n",
      "Epoch 330/400\n",
      "20/20 [==============================] - 0s 12ms/step - loss: 0.0248 - accuracy: 0.9788 - val_loss: 0.3479 - val_accuracy: 0.5714\n",
      "Epoch 331/400\n",
      "20/20 [==============================] - 0s 15ms/step - loss: 0.0252 - accuracy: 0.9821 - val_loss: 0.3420 - val_accuracy: 0.5974\n",
      "Epoch 332/400\n",
      "20/20 [==============================] - 0s 14ms/step - loss: 0.0242 - accuracy: 0.9853 - val_loss: 0.3464 - val_accuracy: 0.5779\n",
      "Epoch 333/400\n",
      "20/20 [==============================] - 0s 14ms/step - loss: 0.0253 - accuracy: 0.9821 - val_loss: 0.3442 - val_accuracy: 0.5649\n",
      "Epoch 334/400\n",
      "20/20 [==============================] - 0s 9ms/step - loss: 0.0241 - accuracy: 0.9821 - val_loss: 0.3478 - val_accuracy: 0.5714\n",
      "Epoch 335/400\n",
      "20/20 [==============================] - 0s 9ms/step - loss: 0.0235 - accuracy: 0.9853 - val_loss: 0.3417 - val_accuracy: 0.5844\n",
      "Epoch 336/400\n",
      "20/20 [==============================] - 0s 14ms/step - loss: 0.0236 - accuracy: 0.9837 - val_loss: 0.3298 - val_accuracy: 0.6039\n",
      "Epoch 337/400\n",
      "20/20 [==============================] - 0s 12ms/step - loss: 0.0219 - accuracy: 0.9870 - val_loss: 0.3439 - val_accuracy: 0.5909\n",
      "Epoch 338/400\n",
      "20/20 [==============================] - 0s 13ms/step - loss: 0.0215 - accuracy: 0.9837 - val_loss: 0.3427 - val_accuracy: 0.5844\n",
      "Epoch 339/400\n",
      "20/20 [==============================] - 0s 11ms/step - loss: 0.0205 - accuracy: 0.9886 - val_loss: 0.3452 - val_accuracy: 0.5779\n",
      "Epoch 340/400\n",
      "20/20 [==============================] - 0s 14ms/step - loss: 0.0203 - accuracy: 0.9886 - val_loss: 0.3432 - val_accuracy: 0.5779\n",
      "Epoch 341/400\n",
      "20/20 [==============================] - 0s 10ms/step - loss: 0.0219 - accuracy: 0.9886 - val_loss: 0.3387 - val_accuracy: 0.5909\n",
      "Epoch 342/400\n",
      "20/20 [==============================] - 0s 9ms/step - loss: 0.0205 - accuracy: 0.9886 - val_loss: 0.3370 - val_accuracy: 0.5844\n",
      "Epoch 343/400\n"
     ]
    },
    {
     "name": "stdout",
     "output_type": "stream",
     "text": [
      "20/20 [==============================] - 0s 10ms/step - loss: 0.0202 - accuracy: 0.9902 - val_loss: 0.3493 - val_accuracy: 0.5909\n",
      "Epoch 344/400\n",
      "20/20 [==============================] - 0s 9ms/step - loss: 0.0264 - accuracy: 0.9821 - val_loss: 0.3578 - val_accuracy: 0.5714\n",
      "Epoch 345/400\n",
      "20/20 [==============================] - 0s 16ms/step - loss: 0.0271 - accuracy: 0.9788 - val_loss: 0.3429 - val_accuracy: 0.5909\n",
      "Epoch 346/400\n",
      "20/20 [==============================] - 0s 15ms/step - loss: 0.0231 - accuracy: 0.9902 - val_loss: 0.3622 - val_accuracy: 0.5519\n",
      "Epoch 347/400\n",
      "20/20 [==============================] - 0s 10ms/step - loss: 0.0263 - accuracy: 0.9821 - val_loss: 0.3373 - val_accuracy: 0.6039\n",
      "Epoch 348/400\n",
      "20/20 [==============================] - 0s 9ms/step - loss: 0.0203 - accuracy: 0.9853 - val_loss: 0.3335 - val_accuracy: 0.5909\n",
      "Epoch 349/400\n",
      "20/20 [==============================] - 0s 10ms/step - loss: 0.0200 - accuracy: 0.9886 - val_loss: 0.3420 - val_accuracy: 0.5844\n",
      "Epoch 350/400\n",
      "20/20 [==============================] - 0s 10ms/step - loss: 0.0185 - accuracy: 0.9919 - val_loss: 0.3269 - val_accuracy: 0.5909\n",
      "Epoch 351/400\n",
      "20/20 [==============================] - 0s 9ms/step - loss: 0.0196 - accuracy: 0.9919 - val_loss: 0.3362 - val_accuracy: 0.5909\n",
      "Epoch 352/400\n",
      "20/20 [==============================] - 0s 10ms/step - loss: 0.0195 - accuracy: 0.9886 - val_loss: 0.3348 - val_accuracy: 0.6039\n",
      "Epoch 353/400\n",
      "20/20 [==============================] - 0s 9ms/step - loss: 0.0182 - accuracy: 0.9902 - val_loss: 0.3368 - val_accuracy: 0.5844\n",
      "Epoch 354/400\n",
      "20/20 [==============================] - 0s 8ms/step - loss: 0.0212 - accuracy: 0.9853 - val_loss: 0.3462 - val_accuracy: 0.5714\n",
      "Epoch 355/400\n",
      "20/20 [==============================] - 0s 8ms/step - loss: 0.0178 - accuracy: 0.9886 - val_loss: 0.3470 - val_accuracy: 0.5909\n",
      "Epoch 356/400\n",
      "20/20 [==============================] - 0s 7ms/step - loss: 0.0170 - accuracy: 0.9919 - val_loss: 0.3394 - val_accuracy: 0.5974\n",
      "Epoch 357/400\n",
      "20/20 [==============================] - 0s 9ms/step - loss: 0.0167 - accuracy: 0.9919 - val_loss: 0.3362 - val_accuracy: 0.5974\n",
      "Epoch 358/400\n",
      "20/20 [==============================] - 0s 8ms/step - loss: 0.0166 - accuracy: 0.9902 - val_loss: 0.3449 - val_accuracy: 0.5974\n",
      "Epoch 359/400\n",
      "20/20 [==============================] - 0s 8ms/step - loss: 0.0166 - accuracy: 0.9935 - val_loss: 0.3355 - val_accuracy: 0.5974\n",
      "Epoch 360/400\n",
      "20/20 [==============================] - 0s 10ms/step - loss: 0.0164 - accuracy: 0.9919 - val_loss: 0.3342 - val_accuracy: 0.6104\n",
      "Epoch 361/400\n",
      "20/20 [==============================] - 0s 11ms/step - loss: 0.0154 - accuracy: 0.9919 - val_loss: 0.3436 - val_accuracy: 0.5974\n",
      "Epoch 362/400\n",
      "20/20 [==============================] - 0s 8ms/step - loss: 0.0151 - accuracy: 0.9951 - val_loss: 0.3382 - val_accuracy: 0.5974\n",
      "Epoch 363/400\n",
      "20/20 [==============================] - 0s 8ms/step - loss: 0.0146 - accuracy: 0.9935 - val_loss: 0.3368 - val_accuracy: 0.5974\n",
      "Epoch 364/400\n",
      "20/20 [==============================] - 0s 9ms/step - loss: 0.0154 - accuracy: 0.9902 - val_loss: 0.3444 - val_accuracy: 0.5909\n",
      "Epoch 365/400\n",
      "20/20 [==============================] - 0s 8ms/step - loss: 0.0144 - accuracy: 0.9919 - val_loss: 0.3414 - val_accuracy: 0.5974\n",
      "Epoch 366/400\n",
      "20/20 [==============================] - 0s 8ms/step - loss: 0.0143 - accuracy: 0.9919 - val_loss: 0.3419 - val_accuracy: 0.5909\n",
      "Epoch 367/400\n",
      "20/20 [==============================] - 0s 8ms/step - loss: 0.0145 - accuracy: 0.9902 - val_loss: 0.3423 - val_accuracy: 0.5974\n",
      "Epoch 368/400\n",
      "20/20 [==============================] - 0s 8ms/step - loss: 0.0155 - accuracy: 0.9919 - val_loss: 0.3505 - val_accuracy: 0.5909\n",
      "Epoch 369/400\n",
      "20/20 [==============================] - 0s 8ms/step - loss: 0.0152 - accuracy: 0.9919 - val_loss: 0.3422 - val_accuracy: 0.5974\n",
      "Epoch 370/400\n",
      "20/20 [==============================] - 0s 7ms/step - loss: 0.0138 - accuracy: 0.9919 - val_loss: 0.3408 - val_accuracy: 0.5974\n",
      "Epoch 371/400\n",
      "20/20 [==============================] - 0s 8ms/step - loss: 0.0138 - accuracy: 0.9902 - val_loss: 0.3362 - val_accuracy: 0.5974\n",
      "Epoch 372/400\n",
      "20/20 [==============================] - 0s 7ms/step - loss: 0.0137 - accuracy: 0.9919 - val_loss: 0.3425 - val_accuracy: 0.5779\n",
      "Epoch 373/400\n",
      "20/20 [==============================] - 0s 8ms/step - loss: 0.0141 - accuracy: 0.9935 - val_loss: 0.3356 - val_accuracy: 0.5909\n",
      "Epoch 374/400\n",
      "20/20 [==============================] - 0s 7ms/step - loss: 0.0135 - accuracy: 0.9935 - val_loss: 0.3459 - val_accuracy: 0.5909\n",
      "Epoch 375/400\n",
      "20/20 [==============================] - 0s 7ms/step - loss: 0.0133 - accuracy: 0.9935 - val_loss: 0.3430 - val_accuracy: 0.5909\n",
      "Epoch 376/400\n",
      "20/20 [==============================] - 0s 8ms/step - loss: 0.0131 - accuracy: 0.9902 - val_loss: 0.3460 - val_accuracy: 0.5909\n",
      "Epoch 377/400\n",
      "20/20 [==============================] - 0s 7ms/step - loss: 0.0121 - accuracy: 0.9935 - val_loss: 0.3441 - val_accuracy: 0.5844\n",
      "Epoch 378/400\n",
      "20/20 [==============================] - 0s 7ms/step - loss: 0.0131 - accuracy: 0.9935 - val_loss: 0.3367 - val_accuracy: 0.6104\n",
      "Epoch 379/400\n",
      "20/20 [==============================] - 0s 7ms/step - loss: 0.0134 - accuracy: 0.9951 - val_loss: 0.3509 - val_accuracy: 0.5779\n",
      "Epoch 380/400\n",
      "20/20 [==============================] - 0s 8ms/step - loss: 0.0120 - accuracy: 0.9935 - val_loss: 0.3411 - val_accuracy: 0.5909\n",
      "Epoch 381/400\n",
      "20/20 [==============================] - 0s 8ms/step - loss: 0.0138 - accuracy: 0.9951 - val_loss: 0.3426 - val_accuracy: 0.5844\n",
      "Epoch 382/400\n",
      "20/20 [==============================] - 0s 8ms/step - loss: 0.0127 - accuracy: 0.9951 - val_loss: 0.3370 - val_accuracy: 0.5909\n",
      "Epoch 383/400\n",
      "20/20 [==============================] - 0s 9ms/step - loss: 0.0128 - accuracy: 0.9935 - val_loss: 0.3359 - val_accuracy: 0.5844\n",
      "Epoch 384/400\n",
      "20/20 [==============================] - 0s 8ms/step - loss: 0.0116 - accuracy: 0.9935 - val_loss: 0.3438 - val_accuracy: 0.5909\n",
      "Epoch 385/400\n",
      "20/20 [==============================] - 0s 7ms/step - loss: 0.0116 - accuracy: 0.9951 - val_loss: 0.3459 - val_accuracy: 0.5779\n",
      "Epoch 386/400\n",
      "20/20 [==============================] - 0s 7ms/step - loss: 0.0110 - accuracy: 0.9935 - val_loss: 0.3413 - val_accuracy: 0.5844\n",
      "Epoch 387/400\n",
      "20/20 [==============================] - 0s 8ms/step - loss: 0.0112 - accuracy: 0.9935 - val_loss: 0.3528 - val_accuracy: 0.5649\n",
      "Epoch 388/400\n",
      "20/20 [==============================] - 0s 7ms/step - loss: 0.0116 - accuracy: 0.9951 - val_loss: 0.3452 - val_accuracy: 0.5974\n",
      "Epoch 389/400\n",
      "20/20 [==============================] - 0s 8ms/step - loss: 0.0108 - accuracy: 0.9951 - val_loss: 0.3405 - val_accuracy: 0.5779\n",
      "Epoch 390/400\n",
      "20/20 [==============================] - 0s 8ms/step - loss: 0.0108 - accuracy: 0.9951 - val_loss: 0.3418 - val_accuracy: 0.5844\n",
      "Epoch 391/400\n",
      "20/20 [==============================] - 0s 8ms/step - loss: 0.0111 - accuracy: 0.9951 - val_loss: 0.3436 - val_accuracy: 0.5974\n",
      "Epoch 392/400\n",
      "20/20 [==============================] - 0s 8ms/step - loss: 0.0113 - accuracy: 0.9951 - val_loss: 0.3415 - val_accuracy: 0.5909\n",
      "Epoch 393/400\n",
      "20/20 [==============================] - 0s 8ms/step - loss: 0.0104 - accuracy: 0.9951 - val_loss: 0.3480 - val_accuracy: 0.5909\n",
      "Epoch 394/400\n",
      "20/20 [==============================] - 0s 8ms/step - loss: 0.0104 - accuracy: 0.9951 - val_loss: 0.3464 - val_accuracy: 0.5974\n",
      "Epoch 395/400\n",
      "20/20 [==============================] - 0s 11ms/step - loss: 0.0097 - accuracy: 0.9951 - val_loss: 0.3524 - val_accuracy: 0.5844\n",
      "Epoch 396/400\n",
      "20/20 [==============================] - 0s 10ms/step - loss: 0.0098 - accuracy: 0.9951 - val_loss: 0.3454 - val_accuracy: 0.5974\n",
      "Epoch 397/400\n",
      "20/20 [==============================] - 0s 8ms/step - loss: 0.0116 - accuracy: 0.9951 - val_loss: 0.3479 - val_accuracy: 0.6039\n",
      "Epoch 398/400\n",
      "20/20 [==============================] - 0s 8ms/step - loss: 0.0107 - accuracy: 0.9951 - val_loss: 0.3419 - val_accuracy: 0.6039\n",
      "Epoch 399/400\n",
      "20/20 [==============================] - 0s 8ms/step - loss: 0.0109 - accuracy: 0.9919 - val_loss: 0.3464 - val_accuracy: 0.5844\n",
      "Epoch 400/400\n"
     ]
    },
    {
     "name": "stdout",
     "output_type": "stream",
     "text": [
      "20/20 [==============================] - 0s 12ms/step - loss: 0.0098 - accuracy: 0.9935 - val_loss: 0.3476 - val_accuracy: 0.5974\n"
     ]
    }
   ],
   "source": [
    "hist = model.fit(x_train,\n",
    "          y_train,\n",
    "          epochs=100,\n",
    "          batch_size = 64,\n",
    "          verbose=1,\n",
    "          validation_split=0.2)"
   ]
  },
  {
   "cell_type": "code",
   "execution_count": 238,
   "id": "529b9483-b0e5-40eb-89f6-63d4952473a4",
   "metadata": {},
   "outputs": [
    {
     "name": "stdout",
     "output_type": "stream",
     "text": [
      "\u001b[1m5/5\u001b[0m \u001b[32m━━━━━━━━━━━━━━━━━━━━\u001b[0m\u001b[37m\u001b[0m \u001b[1m0s\u001b[0m 6ms/step - accuracy: 0.7138 - loss: 0.5471 \n"
     ]
    },
    {
     "data": {
      "text/plain": [
       "[0.5377306938171387, 0.7402597665786743]"
      ]
     },
     "execution_count": 238,
     "metadata": {},
     "output_type": "execute_result"
    }
   ],
   "source": [
    "model.evaluate(x_test, y_test)"
   ]
  },
  {
   "cell_type": "code",
   "execution_count": 207,
   "id": "9466e71c-f33b-4d89-9ede-a7069334cb6d",
   "metadata": {},
   "outputs": [
    {
     "name": "stdout",
     "output_type": "stream",
     "text": [
      "\u001b[1m24/24\u001b[0m \u001b[32m━━━━━━━━━━━━━━━━━━━━\u001b[0m\u001b[37m\u001b[0m \u001b[1m0s\u001b[0m 2ms/step - accuracy: 0.7778 - loss: 0.4506 \n"
     ]
    },
    {
     "data": {
      "text/plain": [
       "[0.42912372946739197, 0.8020833134651184]"
      ]
     },
     "execution_count": 207,
     "metadata": {},
     "output_type": "execute_result"
    }
   ],
   "source": [
    "model.evaluate(norm_x_data, y_data)"
   ]
  },
  {
   "cell_type": "code",
   "execution_count": 239,
   "id": "d487fbe7",
   "metadata": {
    "scrolled": true
   },
   "outputs": [
    {
     "data": {
      "text/plain": [
       "<matplotlib.legend.Legend at 0x20f0acbe380>"
      ]
     },
     "execution_count": 239,
     "metadata": {},
     "output_type": "execute_result"
    },
    {
     "data": {
      "image/png": "[encoded data removed]",
      "text/plain": [
       "<Figure size 640x480 with 2 Axes>"
      ]
     },
     "metadata": {},
     "output_type": "display_data"
    }
   ],
   "source": [
    "import matplotlib.pyplot as plt\n",
    "\n",
    "fig, loss_ax = plt.subplots()\n",
    "loss_ax.plot(hist.history[\"loss\"], \"y\", label=\"train_loss\")\n",
    "loss_ax.plot(hist.history[\"val_loss\"], \"r\", label=\"val_loss\")\n",
    "loss_ax.set_xlabel(\"epoch\")\n",
    "loss_ax.set_ylabel(\"loss\")\n",
    "loss_ax.legend(loc=\"upper left\")\n",
    "\n",
    "acc_ax = loss_ax.twinx()\n",
    "acc_ax.plot(hist.history[\"accuracy\"], \"b\", label=\"train_acc\")\n",
    "acc_ax.plot(hist.history[\"val_accuracy\"], \"g\", label=\"val_acc\")\n",
    "acc_ax.set_ylabel(\"accuracy\")\n",
    "acc_ax.legend(loc=\"lower left\")"
   ]
  },
  {
   "cell_type": "code",
   "execution_count": 240,
   "id": "cc254fd0-c546-4f20-8821-7cd203fdd125",
   "metadata": {},
   "outputs": [
    {
     "data": {
      "text/plain": [
       "Index(['Pregnancies', 'Glucose', 'BloodPressure', 'SkinThickness', 'Insulin',\n",
       "       'BMI', 'DiabetesPedigreeFunction', 'Age', 'Outcome'],\n",
       "      dtype='object')"
      ]
     },
     "execution_count": 240,
     "metadata": {},
     "output_type": "execute_result"
    }
   ],
   "source": [
    "df.keys()"
   ]
  },
  {
   "cell_type": "code",
   "execution_count": 333,
   "id": "9ac74e27",
   "metadata": {},
   "outputs": [
    {
     "data": {
      "text/plain": [
       "array([[  6.   , 100.   ,  80.   ,  35.   ,   0.   ,  20.6  ,   0.907,\n",
       "         50.   ],\n",
       "       [  1.   ,  45.   ,  66.   ,  29.   ,   0.   ,  26.6  ,   0.351,\n",
       "         31.   ]])"
      ]
     },
     "execution_count": 333,
     "metadata": {},
     "output_type": "execute_result"
    }
   ],
   "source": [
    "pred_x_data = np.array([[6, 100, 80, 35, 0, 20.6, 0.607, 50],\n",
    "                        [1, 45, 66, 29, 0, 26.6, 0.351, 31]])\n",
    "pred_x_data"
   ]
  },
  {
   "cell_type": "code",
   "execution_count": 334,
   "id": "4b5acd5e",
   "metadata": {},
   "outputs": [
    {
     "data": {
      "text/plain": [
       "(2, 8)"
      ]
     },
     "execution_count": 334,
     "metadata": {},
     "output_type": "execute_result"
    }
   ],
   "source": [
    "pred_x_data.shape"
   ]
  },
  {
   "cell_type": "code",
   "execution_count": 335,
   "id": "0ecf4ef3-f434-43d5-9d1f-452018dc9e23",
   "metadata": {},
   "outputs": [
    {
     "name": "stderr",
     "output_type": "stream",
     "text": [
      "C:\\Users\\user\\anaconda3\\envs\\python\\lib\\site-packages\\sklearn\\utils\\validation.py:2739: UserWarning: X does not have valid feature names, but MinMaxScaler was fitted with feature names\n",
      "  warnings.warn(\n"
     ]
    }
   ],
   "source": [
    "predic_x_data = scaler.transform(pred_x_data)"
   ]
  },
  {
   "cell_type": "code",
   "execution_count": 336,
   "id": "0ca03ca6",
   "metadata": {},
   "outputs": [
    {
     "name": "stdout",
     "output_type": "stream",
     "text": [
      "\u001b[1m1/1\u001b[0m \u001b[32m━━━━━━━━━━━━━━━━━━━━\u001b[0m\u001b[37m\u001b[0m \u001b[1m0s\u001b[0m 42ms/step\n"
     ]
    },
    {
     "data": {
      "text/plain": [
       "array([[0.4461178 ],\n",
       "       [0.04714554]], dtype=float32)"
      ]
     },
     "execution_count": 336,
     "metadata": {},
     "output_type": "execute_result"
    }
   ],
   "source": [
    "model.predict(predic_x_data)"
   ]
  },
  {
   "cell_type": "code",
   "execution_count": null,
   "id": "7d23254f",
   "metadata": {},
   "outputs": [],
   "source": []
  }
 ],
 "metadata": {
  "kernelspec": {
   "display_name": "Python 3 (ipykernel)",
   "language": "python",
   "name": "python3"
  },
  "language_info": {
   "codemirror_mode": {
    "name": "ipython",
    "version": 3
   },
   "file_extension": ".py",
   "mimetype": "text/x-python",
   "name": "python",
   "nbconvert_exporter": "python",
   "pygments_lexer": "ipython3",
   "version": "3.10.16"
  },
  "toc": {
   "base_numbering": 1,
   "nav_menu": {},
   "number_sections": true,
   "sideBar": true,
   "skip_h1_title": false,
   "title_cell": "Table of Contents",
   "title_sidebar": "Contents",
   "toc_cell": false,
   "toc_position": {},
   "toc_section_display": true,
   "toc_window_display": false
  },
  "varInspector": {
   "cols": {
    "lenName": 16,
    "lenType": 16,
    "lenVar": 40
   },
   "kernels_config": {
    "python": {
     "delete_cmd_postfix": "",
     "delete_cmd_prefix": "del ",
     "library": "var_list.py",
     "varRefreshCmd": "print(var_dic_list())"
    },
    "r": {
     "delete_cmd_postfix": ") ",
     "delete_cmd_prefix": "rm(",
     "library": "var_list.r",
     "varRefreshCmd": "cat(var_dic_list()) "
    }
   },
   "types_to_exclude": [
    "module",
    "function",
    "builtin_function_or_method",
    "instance",
    "_Feature"
   ],
   "window_display": false
  }
 },
 "nbformat": 4,
 "nbformat_minor": 5
}
